{
 "cells": [
  {
   "cell_type": "code",
   "execution_count": 2,
   "id": "5f109441-1655-4596-a094-b95a1ed4528a",
   "metadata": {},
   "outputs": [],
   "source": [
    "from xgboost import XGBClassifier\n",
    "import warnings\n",
    "from sklearn.ensemble import AdaBoostClassifier, RandomForestClassifier\n",
    "from tabpfn_new.scripts.transformer_prediction_interface import TabPFNClassifier, MedPFNClassifier\n",
    "from tabpfn_new.scripts.model_builder import load_model\n",
    "import numpy as np\n",
    "import pandas as pd\n",
    "import os\n",
    "from sklearn.linear_model import LogisticRegression\n",
    "from sklearn.decomposition import PCA\n",
    "from sklearn.model_selection import train_test_split, cross_val_score, cross_validate\n",
    "from data_prep_utils import *\n",
    "from evaluate import *\n",
    "#from load_models import *\n",
    "import matplotlib.pyplot as plt\n",
    "import torch\n",
    "import openml\n",
    "import time\n",
    "#pd.set_option('display.expand_frame_repr', False)"
   ]
  },
  {
   "cell_type": "code",
   "execution_count": 3,
   "id": "79a39034-93a7-4cd2-93fe-72d95ecd9c1c",
   "metadata": {},
   "outputs": [],
   "source": [
    "path = \"datasets/data_all.csv\"\n",
    "all_data, labels = get_microbiome(path)\n",
    "all_data = remove_zero_features(all_data)\n",
    "all_data, labels = unison_shuffled_copies(all_data, labels, seed=42)"
   ]
  },
  {
   "cell_type": "markdown",
   "id": "8e5b3639-230c-4072-81bd-a89bb6e569f7",
   "metadata": {},
   "source": [
    "### Feature importance - Leave-one-covariate-out (LOCO)"
   ]
  },
  {
   "cell_type": "code",
   "execution_count": 5,
   "id": "36ec7ff6-c2df-4279-97c6-7409d8958953",
   "metadata": {},
   "outputs": [
    {
     "name": "stdout",
     "output_type": "stream",
     "text": [
      "Currently at feature:  0\n",
      "Currently at feature:  100\n",
      "Currently at feature:  200\n",
      "Currently at feature:  300\n",
      "Currently at feature:  400\n",
      "Currently at feature:  500\n",
      "Currently at feature:  600\n"
     ]
    },
    {
     "name": "stderr",
     "output_type": "stream",
     "text": [
      "\n",
      "KeyboardInterrupt\n",
      "\n"
     ]
    }
   ],
   "source": [
    "save = True\n",
    "sampling = None\n",
    "cv = 3\n",
    "best_delete = 0\n",
    "strat_split = True\n",
    "max_samples = 1024\n",
    "no_pre_process = False\n",
    "multi_decoder = \"permutation\"\n",
    "N_ens = 3\n",
    "seed = 42\n",
    "overwrite = True\n",
    "metrics = [\"roc_auc\", \"f1\"]\n",
    "dir_path = os.path.abspath(os.getcwd())\n",
    "run_name = \"medium_mlp_var_balance_05weight_anova\"\n",
    "path = dir_path + f\"/logs/trainrun_{run_name}\"\n",
    "filename = \"model\"\n",
    "\n",
    "model = MedPFNClassifier(base_path=path, filename=filename, device='cpu', N_ensemble_configurations=N_ens, multiclass_decoder=multi_decoder,  no_preprocess_mode=no_pre_process)\n",
    "\n",
    "reducer = AnovaSelect()\n",
    "\n",
    "results, _ = cross_validate_sample(model, all_data, labels, metrics, strat_split, cv, sampling, \n",
    "                                   reducer, max_samples, seed=seed, overwrite=overwrite, n_best_delete=best_delete)\n",
    "\n",
    "rocs = []\n",
    "f1s = []\n",
    "for f in range(all_data.shape[1]):\n",
    "    if f%100==0:\n",
    "        print(\"Currently at feature: \", f)\n",
    "    loco_data = np.delete(all_data,f,axis=1)\n",
    "    loco_results, _ = cross_validate_sample(model, loco_data, labels, metrics, strat_split, cv, sampling, \n",
    "                                   reducer, max_samples, seed=seed, overwrite=overwrite, n_best_delete=best_delete)\n",
    "    model.pred_model.model[2].zero_grad()\n",
    "    rocs.append(loco_results[0])\n",
    "    f1s.append(loco_results[1])\n",
    "rocs = results[0]-np.array(rocs)\n",
    "f1s = results[1]-np.array(f1s)\n",
    "red_name =\"fi-loco\"\n",
    "directory = f\"results/{red_name}\"\n",
    "if not os.path.exists(directory):\n",
    "    os.makedirs(directory)\n",
    "np.save(f\"results/{red_name}/rocs.npy\", rocs)\n",
    "np.save(f\"results/{red_name}/f1s.npy\", f1s)"
   ]
  },
  {
   "cell_type": "code",
   "execution_count": null,
   "id": "f8be57d0-c525-4685-8fc8-3be81e0ed38b",
   "metadata": {},
   "outputs": [],
   "source": [
    "plt.hist(results[0]-np.array(rocs))\n",
    "plt.show()\n",
    "plt.scatter(np.arange(len(rocs)), results[0]-np.array(rocs))"
   ]
  },
  {
   "cell_type": "markdown",
   "id": "af58052b-c07e-4b5f-a2d2-bf7a30c6e723",
   "metadata": {},
   "source": [
    "### Feature effect - Individual conditional expectation (ICE)"
   ]
  },
  {
   "cell_type": "code",
   "execution_count": null,
   "id": "984c93d9-5063-4905-b96f-8a3e23fa7e02",
   "metadata": {},
   "outputs": [],
   "source": [
    "features = [0]\n",
    "step = 0.1\n",
    "num = 1\n",
    "c1_props_list = []\n",
    "for f in features:\n",
    "    fvalues = np.linspace(np.min(all_data[:,f]),np.max(all_data[:,f]),num=num)\n",
    "    for v in fvalues:\n",
    "        X_train, X_test, y_train, y_test = train_test_split(all_data, labels, test_size=0.3, stratify=labels, random_state=42)\n",
    "        X_train, X_test = remove_same_features_traintest(X_train, X_test)\n",
    "        X_train[:,f] = 0\n",
    "        X_test[:,f] = 0\n",
    "        X_train = X_train*(1/np.sum(X_train,axis=1, keepdims=True))*(1-v)\n",
    "        X_test = X_test*(1/np.sum(X_test,axis=1, keepdims=True))*(1-v)\n",
    "        X_train[:,f] = v\n",
    "        X_test[:,f] = v\n",
    "        reducer.fit(X_train, y_train)\n",
    "        X_train, X_test = reducer.transform(X_train), reducer.transform(X_test)\n",
    "        model.fit(X_train, y_train, overwrite_warning=True)\n",
    "        preds = model.predict_proba(X_test)\n",
    "        c1_probs = (preds[:,1]-preds[:,0]+1)*0.5\n",
    "        c1_props_list.append(c1_probs)\n",
    "        ice_curves = np.array(c1_props_list)\n",
    "        red_name =\"ice\"\n",
    "        directory = f\"results/{red_name}\"\n",
    "        if not os.path.exists(directory):\n",
    "            os.makedirs(directory)\n",
    "        np.save(f\"results/ice/feature{f}.npy\", ice_curves)"
   ]
  },
  {
   "cell_type": "code",
   "execution_count": 6,
   "id": "62464726-d9ad-4448-8f08-b55cf1247711",
   "metadata": {},
   "outputs": [
    {
     "name": "stdout",
     "output_type": "stream",
     "text": [
      "(0,)\n"
     ]
    }
   ],
   "source": [
    "print(np.array(c1_props_list).shape)"
   ]
  },
  {
   "cell_type": "code",
   "execution_count": null,
   "id": "ae25a09a-1442-492a-8f05-6e6ebb299faf",
   "metadata": {},
   "outputs": [],
   "source": [
    "step = 0.1\n",
    "fvalues = np.arange(0,1+step,step)\n",
    "ice_curves = np.load(\"results/ice/test.npy\")\n",
    "for i in range(100):\n",
    "    plt.plot(fvalues, ice_curves[:,i])"
   ]
  },
  {
   "cell_type": "code",
   "execution_count": null,
   "id": "972b9f54-75e4-4a20-8daa-5bd19819f5db",
   "metadata": {},
   "outputs": [],
   "source": []
  }
 ],
 "metadata": {
  "kernelspec": {
   "display_name": "Python 3 (ipykernel)",
   "language": "python",
   "name": "python3"
  },
  "language_info": {
   "codemirror_mode": {
    "name": "ipython",
    "version": 3
   },
   "file_extension": ".py",
   "mimetype": "text/x-python",
   "name": "python",
   "nbconvert_exporter": "python",
   "pygments_lexer": "ipython3",
   "version": "3.11.10"
  }
 },
 "nbformat": 4,
 "nbformat_minor": 5
}
