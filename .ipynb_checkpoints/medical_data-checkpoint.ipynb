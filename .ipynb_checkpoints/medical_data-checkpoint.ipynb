{
 "cells": [
  {
   "cell_type": "code",
   "execution_count": 2,
   "id": "84fa72bf-ddc8-4ff5-88d1-6c327f226f22",
   "metadata": {},
   "outputs": [],
   "source": [
    "from xgboost import XGBClassifier\n",
    "import warnings\n",
    "from tabpfn import TabPFNClassifier\n",
    "import numpy as np\n",
    "import pandas as pd\n",
    "import os\n",
    "from evaluate import scores\n",
    "import sklearn\n",
    "from sklearn.decomposition import PCA\n",
    "from sklearn.metrics import accuracy_score, precision_score, roc_auc_score\n",
    "from sklearn.linear_model import LogisticRegression\n",
    "from sklearn.model_selection import train_test_split, cross_val_score, cross_validate\n",
    "from data_prep_utils import *\n",
    "import matplotlib.pyplot as plt\n",
    "import torch\n",
    "import openml"
   ]
  },
  {
   "cell_type": "code",
   "execution_count": 3,
   "id": "ee3539c5-ada2-42ca-ab78-f7695bdd04df",
   "metadata": {},
   "outputs": [
    {
     "name": "stdout",
     "output_type": "stream",
     "text": [
      "11 11\n"
     ]
    }
   ],
   "source": [
    "openml_medical_id = [13, 25, 49, 51, 53, 55, 336, 337, 446, 778, 798, 949, 4329]\n",
    "openml_non_medical_id = [40, 43, 56, 59,333,334,335, 450, 451, 756, 872, 925,  1447, 40705, 40706]\n",
    "print(len(openml_medical_id), len(openml_non_medical_id))"
   ]
  },
  {
   "cell_type": "code",
   "execution_count": 42,
   "id": "8f5ff069-3527-4b0a-8c96-a06edda68ea3",
   "metadata": {},
   "outputs": [],
   "source": [
    "# returns average proportion of zeros per feature\n",
    "def get_sparsity(X, categorical_indicator):\n",
    "    # remove categorical features\n",
    "    X = X[:,np.logical_not(categorical_indicator)]\n",
    "    if X.shape[1]==0:\n",
    "        print(\"Only categorical features in this dataset!\")\n",
    "        return False, 0\n",
    "    else:\n",
    "        counts = np.count_nonzero(X, axis=0)\n",
    "        return True, np.mean((X.shape[0]-counts)/X.shape[0])"
   ]
  },
  {
   "cell_type": "code",
   "execution_count": 47,
   "id": "4677d0b1-aced-4a4b-b2ca-ebe3b2c1a3a7",
   "metadata": {},
   "outputs": [
    {
     "name": "stdout",
     "output_type": "stream",
     "text": [
      "Only categorical features in this dataset!\n",
      "Only categorical features in this dataset!\n",
      "0.09502169997025929\n"
     ]
    }
   ],
   "source": [
    "sparsity = []\n",
    "for data_id in openml_medical_id:    \n",
    "    dataset = openml.datasets.get_dataset(data_id, download_data=True, download_qualities=True, download_features_meta_data=True)\n",
    "    X, y, categorical_indicator, attribute_names = dataset.get_data(dataset_format=\"dataframe\", target=dataset.default_target_attribute)\n",
    "    X, y = df_to_numpy(X), df_to_numpy(y)\n",
    "    cat_ind, sp = get_sparsity(X,categorical_indicator)\n",
    "    if cat_ind:\n",
    "        sparsity.append(sp)\n",
    "print(np.mean(np.asarray(sparsity)))"
   ]
  },
  {
   "cell_type": "code",
   "execution_count": 46,
   "id": "bd09e5fd-09e6-4d60-a895-07cbfab6d98f",
   "metadata": {},
   "outputs": [
    {
     "name": "stdout",
     "output_type": "stream",
     "text": [
      "Only categorical features in this dataset!\n",
      "Only categorical features in this dataset!\n",
      "Only categorical features in this dataset!\n",
      "Only categorical features in this dataset!\n",
      "Only categorical features in this dataset!\n",
      "0.03910717123301406\n"
     ]
    }
   ],
   "source": [
    "sparsity = []\n",
    "for data_id in openml_non_medical_id:    \n",
    "    dataset = openml.datasets.get_dataset(data_id, download_data=True, download_qualities=True, download_features_meta_data=True)\n",
    "    X, y, categorical_indicator, attribute_names = dataset.get_data(dataset_format=\"dataframe\", target=dataset.default_target_attribute)\n",
    "    X, y = df_to_numpy(X), df_to_numpy(y)\n",
    "    cat_ind, sp = get_sparsity(X,categorical_indicator)\n",
    "    if cat_ind:\n",
    "        sparsity.append(sp)\n",
    "print(np.mean(np.asarray(sparsity)))"
   ]
  }
 ],
 "metadata": {
  "kernelspec": {
   "display_name": "Python 3 (ipykernel)",
   "language": "python",
   "name": "python3"
  },
  "language_info": {
   "codemirror_mode": {
    "name": "ipython",
    "version": 3
   },
   "file_extension": ".py",
   "mimetype": "text/x-python",
   "name": "python",
   "nbconvert_exporter": "python",
   "pygments_lexer": "ipython3",
   "version": "3.9.18"
  }
 },
 "nbformat": 4,
 "nbformat_minor": 5
}
