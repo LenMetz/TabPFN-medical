{
 "cells": [
  {
   "cell_type": "code",
   "execution_count": 28,
   "id": "716a0985-a3e5-47be-acc6-d58fb95fa8db",
   "metadata": {},
   "outputs": [],
   "source": [
    "from xgboost import XGBClassifier\n",
    "import warnings\n",
    "from tabpfn import TabPFNClassifier\n",
    "import numpy as np\n",
    "import pandas as pd\n",
    "import os\n",
    "from sklearn.linear_model import LogisticRegression\n",
    "from sklearn.decomposition import PCA\n",
    "from sklearn.model_selection import train_test_split, cross_val_score, cross_validate\n",
    "from data_prep_utils import *\n",
    "from load_models import *\n",
    "import matplotlib.pyplot as plt\n",
    "import torch\n",
    "import openml"
   ]
  },
  {
   "cell_type": "code",
   "execution_count": 23,
   "id": "9fd72aea-dcf4-4d2c-bc6b-63eb9ccfdd41",
   "metadata": {},
   "outputs": [],
   "source": [
    "path = \"datasets/data_all.csv\"\n",
    "data, labels = get_microbiome(path)\n",
    "data = top_non_zero(data)\n",
    "data, labels = unison_shuffled_copies(data, labels)"
   ]
  },
  {
   "cell_type": "code",
   "execution_count": null,
   "id": "2621825d-0acd-4b5b-af5a-6b0b65f953d4",
   "metadata": {},
   "outputs": [],
   "source": [
    "def undersample(X, y):\n",
    "    min_class = np.argmin([X[np.where(y==0)].shape[0],X[np.where(y==1)].shape[0]])\n",
    "    max_class = np.argmax([X[np.where(y==0)].shape[0],X[np.where(y==1)].shape[0]])\n",
    "    X_min = X[np.where(y==min_class)]\n",
    "    X_maj = X[np.where(y!=min_class)]\n",
    "    n_sample_min = X_min.shape[0]\n",
    "    X_new = np.concatenate((X_min, X_maj[:n_sample_min]))\n",
    "    y_new = np.concatenate((np.full(n_sample_min, min_class),np.full(n_sample_min, max_class)))\n",
    "    return \n",
    "    "
   ]
  },
  {
   "cell_type": "code",
   "execution_count": 24,
   "id": "00e97eb7-f5b0-4e0a-99c7-152f121afc9f",
   "metadata": {},
   "outputs": [
    {
     "name": "stdout",
     "output_type": "stream",
     "text": [
      "[0 1 2 3 4 5 6 7 8]\n",
      "[0 1 2 3 4 5 6 7 8 9]\n",
      "[8 9 0 1 2 3 4 5 6 7]\n",
      "[6 7 8 9 0 1 2 3 4 5]\n",
      "[4 5 6 7 8 9 0 1 2 3]\n",
      "[2 3 4 5 6 7 8 9 0 1]\n"
     ]
    }
   ],
   "source": [
    "cv = 5\n",
    "a = np.arange(10)\n",
    "print(a[:-1])\n",
    "a = np.array_split(a, cv)\n",
    "for t in range(cv):\n",
    "    b = a[-t:] + a[:-t]\n",
    "    #print(b)\n",
    "    print(np.concatenate((tuple(b))))"
   ]
  },
  {
   "cell_type": "code",
   "execution_count": 29,
   "id": "10520771-e56e-468f-84ce-f76ab1c77424",
   "metadata": {},
   "outputs": [],
   "source": [
    "def cross_validate_sample(model, X, y, metrics, cv=3, sampling=None):\n",
    "    X_folds = np.array_split(X, cv)\n",
    "    y_folds = np.array_split(y, cv)\n",
    "    results = np.zeros((len(metrics)))\n",
    "    for run in range(cv):\n",
    "        model_clean = sklearn.base.clone(model)\n",
    "        X_folds = X_folds[-run:] + X_folds[:-run]\n",
    "        y_folds = y_folds[-run:] + y_folds[:-run]\n",
    "        X_train, y_train = np.concatenate(tuple(X_folds[:-1])), np.concatenate(tuple(y_folds[:-1]))\n",
    "        X_test, y_test = X_folds[-1], y_folds[-1]\n",
    "        if sampling: X_train, y_train = sampling(X_train, y_train)\n",
    "        X_train, y_train = unison_shuffled_copies(X_train, y_train)\n",
    "        if model_clean.__class__.__name__==\"TabPFNClassifier\": X_train, y_train = reduce_n_samples(X_train, y_train)\n",
    "        model_clean.fit(X_train, y_train)\n",
    "        preds = model_clean.predict(X_test)\n",
    "        for i, m in enumerate(metrics):\n",
    "            results[i] += sklearn.metrics.get_scorer(m)._score_func(y_test, preds)\n",
    "    results = results/cv\n",
    "    return results"
   ]
  },
  {
   "cell_type": "code",
   "execution_count": 34,
   "id": "879ba0a8-b675-49eb-a1dc-64e836de555b",
   "metadata": {},
   "outputs": [
    {
     "ename": "NameError",
     "evalue": "name 'undersample' is not defined",
     "output_type": "error",
     "traceback": [
      "\u001b[1;31m---------------------------------------------------------------------------\u001b[0m",
      "\u001b[1;31mNameError\u001b[0m                                 Traceback (most recent call last)",
      "Cell \u001b[1;32mIn[34], line 3\u001b[0m\n\u001b[0;32m      1\u001b[0m n_optim \u001b[38;5;241m=\u001b[39m \u001b[38;5;241m100\u001b[39m\n\u001b[0;32m      2\u001b[0m ft_epochs \u001b[38;5;241m=\u001b[39m \u001b[38;5;241m10\u001b[39m\n\u001b[1;32m----> 3\u001b[0m sampling \u001b[38;5;241m=\u001b[39m \u001b[43mundersample\u001b[49m\n\u001b[0;32m      4\u001b[0m metrics \u001b[38;5;241m=\u001b[39m metrics \u001b[38;5;241m=\u001b[39m [\u001b[38;5;124m\"\u001b[39m\u001b[38;5;124maccuracy\u001b[39m\u001b[38;5;124m\"\u001b[39m, \u001b[38;5;124m\"\u001b[39m\u001b[38;5;124mprecision\u001b[39m\u001b[38;5;124m\"\u001b[39m, \u001b[38;5;124m\"\u001b[39m\u001b[38;5;124mrecall\u001b[39m\u001b[38;5;124m\"\u001b[39m, \u001b[38;5;124m\"\u001b[39m\u001b[38;5;124mroc_auc\u001b[39m\u001b[38;5;124m\"\u001b[39m]\n\u001b[0;32m      5\u001b[0m models \u001b[38;5;241m=\u001b[39m [\n\u001b[0;32m      6\u001b[0m     XGBClassifier(n_estimators\u001b[38;5;241m=\u001b[39m\u001b[38;5;241m5\u001b[39m, max_depth\u001b[38;5;241m=\u001b[39m\u001b[38;5;241m5\u001b[39m, learning_rate\u001b[38;5;241m=\u001b[39m\u001b[38;5;241m1\u001b[39m, objective\u001b[38;5;241m=\u001b[39m\u001b[38;5;124m'\u001b[39m\u001b[38;5;124mbinary:logistic\u001b[39m\u001b[38;5;124m'\u001b[39m),\n\u001b[0;32m      7\u001b[0m     XGBoostOptim(n_optim\u001b[38;5;241m=\u001b[39mn_optim),\n\u001b[1;32m   (...)\u001b[0m\n\u001b[0;32m     10\u001b[0m     TabForestPFNClassifier(\u001b[38;5;124m\"\u001b[39m\u001b[38;5;124msaved_models/tabforest/mix600k/tabforestpfn.pt\u001b[39m\u001b[38;5;124m\"\u001b[39m, \u001b[38;5;124m\"\u001b[39m\u001b[38;5;124msaved_models/tabforest/mix600k/config_run.yaml\u001b[39m\u001b[38;5;124m\"\u001b[39m)\n\u001b[0;32m     11\u001b[0m ]\n",
      "\u001b[1;31mNameError\u001b[0m: name 'undersample' is not defined"
     ]
    }
   ],
   "source": [
    "n_optim = 100\n",
    "ft_epochs = 10\n",
    "sampling = undersample\n",
    "metrics = metrics = [\"accuracy\", \"precision\", \"recall\", \"roc_auc\"]\n",
    "models = [\n",
    "    XGBClassifier(n_estimators=5, max_depth=5, learning_rate=1, objective='binary:logistic'),\n",
    "    XGBoostOptim(n_optim=n_optim),\n",
    "    LogisticRegression(max_iter=500), \n",
    "    TabPFNClassifier(device='cpu', N_ensemble_configurations=3),\n",
    "    TabForestPFNClassifier(\"saved_models/tabforest/mix600k/tabforestpfn.pt\", \"saved_models/tabforest/mix600k/config_run.yaml\")\n",
    "]\n",
    "results = pd.DataFrame(np.zeros((len(models), len(metrics))), \n",
    "                       index=[m.__class__.__name__ for m in models],\n",
    "                      columns=metrics)\n",
    "\n",
    "for ii, model in enumerate(models):\n",
    "    results.iloc[ii,:] = cross_validate_sample(model, data, labels, metrics)"
   ]
  },
  {
   "cell_type": "code",
   "execution_count": 6,
   "id": "5983e6a1-a7ce-4694-b775-e83498cd3be9",
   "metadata": {},
   "outputs": [],
   "source": []
  },
  {
   "cell_type": "code",
   "execution_count": 7,
   "id": "a85224c2-7299-482c-a13c-5d9af4270816",
   "metadata": {},
   "outputs": [],
   "source": [
    "data, labels = oversample(data, labels)"
   ]
  },
  {
   "cell_type": "code",
   "execution_count": null,
   "id": "addcaa01-6c4b-47dd-bc77-602a694852fe",
   "metadata": {},
   "outputs": [],
   "source": []
  }
 ],
 "metadata": {
  "kernelspec": {
   "display_name": "Python 3 (ipykernel)",
   "language": "python",
   "name": "python3"
  },
  "language_info": {
   "codemirror_mode": {
    "name": "ipython",
    "version": 3
   },
   "file_extension": ".py",
   "mimetype": "text/x-python",
   "name": "python",
   "nbconvert_exporter": "python",
   "pygments_lexer": "ipython3",
   "version": "3.11.0"
  }
 },
 "nbformat": 4,
 "nbformat_minor": 5
}
