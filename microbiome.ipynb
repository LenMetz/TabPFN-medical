{
 "cells": [
  {
   "cell_type": "code",
   "execution_count": 1,
   "id": "716a0985-a3e5-47be-acc6-d58fb95fa8db",
   "metadata": {},
   "outputs": [],
   "source": [
    "from xgboost import XGBClassifier\n",
    "import warnings\n",
    "from tabpfn_new.scripts.transformer_prediction_interface import TabPFNClassifier\n",
    "import numpy as np\n",
    "import pandas as pd\n",
    "import os\n",
    "from sklearn.linear_model import LogisticRegression\n",
    "from sklearn.decomposition import PCA\n",
    "from sklearn.model_selection import train_test_split, cross_val_score, cross_validate\n",
    "from data_prep_utils import *\n",
    "from evaluate import *\n",
    "from load_models import *\n",
    "import matplotlib.pyplot as plt\n",
    "import torch\n",
    "import openml\n",
    "import time"
   ]
  },
  {
   "cell_type": "code",
   "execution_count": 2,
   "id": "9fd72aea-dcf4-4d2c-bc6b-63eb9ccfdd41",
   "metadata": {},
   "outputs": [],
   "source": [
    "path = \"datasets/data_all.csv\"\n",
    "data, labels = get_microbiome(path)\n",
    "data = top_non_zero(data)\n",
    "data, labels = unison_shuffled_copies(data, labels)"
   ]
  },
  {
   "cell_type": "code",
   "execution_count": 3,
   "id": "879ba0a8-b675-49eb-a1dc-64e836de555b",
   "metadata": {},
   "outputs": [
    {
     "name": "stderr",
     "output_type": "stream",
     "text": [
      "\u001b[32m2024-10-07 11:53:44.652\u001b[0m | \u001b[1mINFO    \u001b[0m | \u001b[36mtabularbench.core.trainer_finetune\u001b[0m:\u001b[36mtrain\u001b[0m:\u001b[36m83\u001b[0m - \u001b[1mEpoch 000 | Train loss: -.---- | Train score: -.---- | Val loss: 0.1880 | Val score: 0.9398\u001b[0m\n",
      "\u001b[32m2024-10-07 11:54:18.606\u001b[0m | \u001b[1mINFO    \u001b[0m | \u001b[36mtabularbench.core.trainer_finetune\u001b[0m:\u001b[36mtrain\u001b[0m:\u001b[36m94\u001b[0m - \u001b[1mEpoch 001 | Train loss: 0.2043 | Train score: 0.9336 | Val loss: 0.1828 | Val score: 0.9437\u001b[0m\n",
      "\u001b[32m2024-10-07 11:54:51.808\u001b[0m | \u001b[1mINFO    \u001b[0m | \u001b[36mtabularbench.core.trainer_finetune\u001b[0m:\u001b[36mtrain\u001b[0m:\u001b[36m94\u001b[0m - \u001b[1mEpoch 002 | Train loss: 0.1721 | Train score: 0.9453 | Val loss: 0.1831 | Val score: 0.9378\u001b[0m\n",
      "\u001b[32m2024-10-07 11:55:26.732\u001b[0m | \u001b[1mINFO    \u001b[0m | \u001b[36mtabularbench.core.trainer_finetune\u001b[0m:\u001b[36mtrain\u001b[0m:\u001b[36m94\u001b[0m - \u001b[1mEpoch 003 | Train loss: 0.1703 | Train score: 0.9414 | Val loss: 0.1818 | Val score: 0.9378\u001b[0m\n",
      "\u001b[32m2024-10-07 11:55:59.872\u001b[0m | \u001b[1mINFO    \u001b[0m | \u001b[36mtabularbench.core.trainer_finetune\u001b[0m:\u001b[36mtrain\u001b[0m:\u001b[36m94\u001b[0m - \u001b[1mEpoch 004 | Train loss: 0.1606 | Train score: 0.9551 | Val loss: 0.1892 | Val score: 0.9411\u001b[0m\n",
      "\u001b[32m2024-10-07 11:56:34.418\u001b[0m | \u001b[1mINFO    \u001b[0m | \u001b[36mtabularbench.core.trainer_finetune\u001b[0m:\u001b[36mtrain\u001b[0m:\u001b[36m94\u001b[0m - \u001b[1mEpoch 005 | Train loss: 0.1765 | Train score: 0.9355 | Val loss: 0.1852 | Val score: 0.9404\u001b[0m\n",
      "\u001b[32m2024-10-07 11:57:07.318\u001b[0m | \u001b[1mINFO    \u001b[0m | \u001b[36mtabularbench.core.trainer_finetune\u001b[0m:\u001b[36mtrain\u001b[0m:\u001b[36m94\u001b[0m - \u001b[1mEpoch 006 | Train loss: 0.1773 | Train score: 0.9395 | Val loss: 0.1799 | Val score: 0.9398\u001b[0m\n",
      "\u001b[32m2024-10-07 11:57:39.910\u001b[0m | \u001b[1mINFO    \u001b[0m | \u001b[36mtabularbench.core.trainer_finetune\u001b[0m:\u001b[36mtrain\u001b[0m:\u001b[36m94\u001b[0m - \u001b[1mEpoch 007 | Train loss: 0.1750 | Train score: 0.9453 | Val loss: 0.1794 | Val score: 0.9418\u001b[0m\n",
      "\u001b[32m2024-10-07 11:58:13.010\u001b[0m | \u001b[1mINFO    \u001b[0m | \u001b[36mtabularbench.core.trainer_finetune\u001b[0m:\u001b[36mtrain\u001b[0m:\u001b[36m94\u001b[0m - \u001b[1mEpoch 008 | Train loss: 0.1423 | Train score: 0.9492 | Val loss: 0.1746 | Val score: 0.9437\u001b[0m\n",
      "\u001b[32m2024-10-07 11:58:45.328\u001b[0m | \u001b[1mINFO    \u001b[0m | \u001b[36mtabularbench.core.trainer_finetune\u001b[0m:\u001b[36mtrain\u001b[0m:\u001b[36m94\u001b[0m - \u001b[1mEpoch 009 | Train loss: 0.1689 | Train score: 0.9473 | Val loss: 0.1766 | Val score: 0.9431\u001b[0m\n",
      "\u001b[32m2024-10-07 11:59:17.979\u001b[0m | \u001b[1mINFO    \u001b[0m | \u001b[36mtabularbench.core.trainer_finetune\u001b[0m:\u001b[36mtrain\u001b[0m:\u001b[36m94\u001b[0m - \u001b[1mEpoch 010 | Train loss: 0.1887 | Train score: 0.9414 | Val loss: 0.1748 | Val score: 0.9431\u001b[0m\n",
      "\u001b[32m2024-10-07 12:00:23.447\u001b[0m | \u001b[1mINFO    \u001b[0m | \u001b[36mtabularbench.core.trainer_finetune\u001b[0m:\u001b[36mtrain\u001b[0m:\u001b[36m83\u001b[0m - \u001b[1mEpoch 000 | Train loss: -.---- | Train score: -.---- | Val loss: 0.1668 | Val score: 0.9411\u001b[0m\n",
      "\u001b[32m2024-10-07 12:00:55.695\u001b[0m | \u001b[1mINFO    \u001b[0m | \u001b[36mtabularbench.core.trainer_finetune\u001b[0m:\u001b[36mtrain\u001b[0m:\u001b[36m94\u001b[0m - \u001b[1mEpoch 001 | Train loss: 0.1597 | Train score: 0.9531 | Val loss: 0.1633 | Val score: 0.9437\u001b[0m\n",
      "\u001b[32m2024-10-07 12:01:29.496\u001b[0m | \u001b[1mINFO    \u001b[0m | \u001b[36mtabularbench.core.trainer_finetune\u001b[0m:\u001b[36mtrain\u001b[0m:\u001b[36m94\u001b[0m - \u001b[1mEpoch 002 | Train loss: 0.1200 | Train score: 0.9609 | Val loss: 0.1669 | Val score: 0.9450\u001b[0m\n",
      "\u001b[32m2024-10-07 12:02:01.186\u001b[0m | \u001b[1mINFO    \u001b[0m | \u001b[36mtabularbench.core.trainer_finetune\u001b[0m:\u001b[36mtrain\u001b[0m:\u001b[36m94\u001b[0m - \u001b[1mEpoch 003 | Train loss: 0.1562 | Train score: 0.9473 | Val loss: 0.1610 | Val score: 0.9463\u001b[0m\n",
      "\u001b[32m2024-10-07 12:02:33.793\u001b[0m | \u001b[1mINFO    \u001b[0m | \u001b[36mtabularbench.core.trainer_finetune\u001b[0m:\u001b[36mtrain\u001b[0m:\u001b[36m94\u001b[0m - \u001b[1mEpoch 004 | Train loss: 0.1874 | Train score: 0.9414 | Val loss: 0.1575 | Val score: 0.9483\u001b[0m\n",
      "\u001b[32m2024-10-07 12:03:05.516\u001b[0m | \u001b[1mINFO    \u001b[0m | \u001b[36mtabularbench.core.trainer_finetune\u001b[0m:\u001b[36mtrain\u001b[0m:\u001b[36m94\u001b[0m - \u001b[1mEpoch 005 | Train loss: 0.1450 | Train score: 0.9453 | Val loss: 0.1561 | Val score: 0.9450\u001b[0m\n",
      "\u001b[32m2024-10-07 12:03:38.130\u001b[0m | \u001b[1mINFO    \u001b[0m | \u001b[36mtabularbench.core.trainer_finetune\u001b[0m:\u001b[36mtrain\u001b[0m:\u001b[36m94\u001b[0m - \u001b[1mEpoch 006 | Train loss: 0.1632 | Train score: 0.9551 | Val loss: 0.1572 | Val score: 0.9503\u001b[0m\n",
      "\u001b[32m2024-10-07 12:04:10.038\u001b[0m | \u001b[1mINFO    \u001b[0m | \u001b[36mtabularbench.core.trainer_finetune\u001b[0m:\u001b[36mtrain\u001b[0m:\u001b[36m94\u001b[0m - \u001b[1mEpoch 007 | Train loss: 0.1459 | Train score: 0.9609 | Val loss: 0.1560 | Val score: 0.9463\u001b[0m\n",
      "\u001b[32m2024-10-07 12:04:42.388\u001b[0m | \u001b[1mINFO    \u001b[0m | \u001b[36mtabularbench.core.trainer_finetune\u001b[0m:\u001b[36mtrain\u001b[0m:\u001b[36m94\u001b[0m - \u001b[1mEpoch 008 | Train loss: 0.1776 | Train score: 0.9355 | Val loss: 0.1569 | Val score: 0.9496\u001b[0m\n",
      "\u001b[32m2024-10-07 12:05:16.199\u001b[0m | \u001b[1mINFO    \u001b[0m | \u001b[36mtabularbench.core.trainer_finetune\u001b[0m:\u001b[36mtrain\u001b[0m:\u001b[36m94\u001b[0m - \u001b[1mEpoch 009 | Train loss: 0.1614 | Train score: 0.9434 | Val loss: 0.1586 | Val score: 0.9470\u001b[0m\n",
      "\u001b[32m2024-10-07 12:05:50.240\u001b[0m | \u001b[1mINFO    \u001b[0m | \u001b[36mtabularbench.core.trainer_finetune\u001b[0m:\u001b[36mtrain\u001b[0m:\u001b[36m94\u001b[0m - \u001b[1mEpoch 010 | Train loss: 0.1273 | Train score: 0.9570 | Val loss: 0.1561 | Val score: 0.9476\u001b[0m\n",
      "\u001b[32m2024-10-07 12:06:57.289\u001b[0m | \u001b[1mINFO    \u001b[0m | \u001b[36mtabularbench.core.trainer_finetune\u001b[0m:\u001b[36mtrain\u001b[0m:\u001b[36m83\u001b[0m - \u001b[1mEpoch 000 | Train loss: -.---- | Train score: -.---- | Val loss: 0.1765 | Val score: 0.9398\u001b[0m\n",
      "\u001b[32m2024-10-07 12:07:31.279\u001b[0m | \u001b[1mINFO    \u001b[0m | \u001b[36mtabularbench.core.trainer_finetune\u001b[0m:\u001b[36mtrain\u001b[0m:\u001b[36m94\u001b[0m - \u001b[1mEpoch 001 | Train loss: 0.1706 | Train score: 0.9512 | Val loss: 0.1682 | Val score: 0.9404\u001b[0m\n",
      "\u001b[32m2024-10-07 12:08:03.091\u001b[0m | \u001b[1mINFO    \u001b[0m | \u001b[36mtabularbench.core.trainer_finetune\u001b[0m:\u001b[36mtrain\u001b[0m:\u001b[36m94\u001b[0m - \u001b[1mEpoch 002 | Train loss: 0.1750 | Train score: 0.9414 | Val loss: 0.1653 | Val score: 0.9398\u001b[0m\n",
      "\u001b[32m2024-10-07 12:08:35.822\u001b[0m | \u001b[1mINFO    \u001b[0m | \u001b[36mtabularbench.core.trainer_finetune\u001b[0m:\u001b[36mtrain\u001b[0m:\u001b[36m94\u001b[0m - \u001b[1mEpoch 003 | Train loss: 0.1582 | Train score: 0.9512 | Val loss: 0.1632 | Val score: 0.9404\u001b[0m\n",
      "\u001b[32m2024-10-07 12:09:08.084\u001b[0m | \u001b[1mINFO    \u001b[0m | \u001b[36mtabularbench.core.trainer_finetune\u001b[0m:\u001b[36mtrain\u001b[0m:\u001b[36m94\u001b[0m - \u001b[1mEpoch 004 | Train loss: 0.1710 | Train score: 0.9395 | Val loss: 0.1666 | Val score: 0.9431\u001b[0m\n",
      "\u001b[32m2024-10-07 12:09:41.553\u001b[0m | \u001b[1mINFO    \u001b[0m | \u001b[36mtabularbench.core.trainer_finetune\u001b[0m:\u001b[36mtrain\u001b[0m:\u001b[36m94\u001b[0m - \u001b[1mEpoch 005 | Train loss: 0.2452 | Train score: 0.9297 | Val loss: 0.1677 | Val score: 0.9398\u001b[0m\n",
      "\u001b[32m2024-10-07 12:10:15.618\u001b[0m | \u001b[1mINFO    \u001b[0m | \u001b[36mtabularbench.core.trainer_finetune\u001b[0m:\u001b[36mtrain\u001b[0m:\u001b[36m94\u001b[0m - \u001b[1mEpoch 006 | Train loss: 0.1350 | Train score: 0.9570 | Val loss: 0.1716 | Val score: 0.9404\u001b[0m\n",
      "\u001b[32m2024-10-07 12:10:49.999\u001b[0m | \u001b[1mINFO    \u001b[0m | \u001b[36mtabularbench.core.trainer_finetune\u001b[0m:\u001b[36mtrain\u001b[0m:\u001b[36m94\u001b[0m - \u001b[1mEpoch 007 | Train loss: 0.1449 | Train score: 0.9551 | Val loss: 0.1705 | Val score: 0.9391\u001b[0m\n",
      "\u001b[32m2024-10-07 12:11:22.234\u001b[0m | \u001b[1mINFO    \u001b[0m | \u001b[36mtabularbench.core.trainer_finetune\u001b[0m:\u001b[36mtrain\u001b[0m:\u001b[36m94\u001b[0m - \u001b[1mEpoch 008 | Train loss: 0.1765 | Train score: 0.9414 | Val loss: 0.1723 | Val score: 0.9398\u001b[0m\n",
      "\u001b[32m2024-10-07 12:11:54.237\u001b[0m | \u001b[1mINFO    \u001b[0m | \u001b[36mtabularbench.core.trainer_finetune\u001b[0m:\u001b[36mtrain\u001b[0m:\u001b[36m94\u001b[0m - \u001b[1mEpoch 009 | Train loss: 0.1835 | Train score: 0.9336 | Val loss: 0.1667 | Val score: 0.9424\u001b[0m\n",
      "\u001b[32m2024-10-07 12:12:28.385\u001b[0m | \u001b[1mINFO    \u001b[0m | \u001b[36mtabularbench.core.trainer_finetune\u001b[0m:\u001b[36mtrain\u001b[0m:\u001b[36m94\u001b[0m - \u001b[1mEpoch 010 | Train loss: 0.1568 | Train score: 0.9512 | Val loss: 0.1681 | Val score: 0.9404\u001b[0m\n"
     ]
    },
    {
     "name": "stdout",
     "output_type": "stream",
     "text": [
      "                        accuracy  precision    recall   roc_auc     runtime\n",
      "TabPFNClassifier        0.940997   0.933333  0.037196  0.518459  104.979090\n",
      "LogisticRegression      0.935847   0.362993  0.068670  0.530431    0.302000\n",
      "TabForestPFNClassifier  0.944663   0.761072  0.144492  0.570573  397.125838\n",
      "XGBoostOptim            0.946146   0.695337  0.206009  0.600123  601.063999\n",
      "XGBClassifier           0.932618   0.409771  0.228898  0.603620    0.238067\n"
     ]
    },
    {
     "name": "stderr",
     "output_type": "stream",
     "text": [
      "\u001b[32m2024-10-07 12:21:21.066\u001b[0m | \u001b[1mINFO    \u001b[0m | \u001b[36mtabularbench.core.trainer_finetune\u001b[0m:\u001b[36mtrain\u001b[0m:\u001b[36m83\u001b[0m - \u001b[1mEpoch 000 | Train loss: -.---- | Train score: -.---- | Val loss: 0.4535 | Val score: 0.7647\u001b[0m\n",
      "\u001b[32m2024-10-07 12:21:22.961\u001b[0m | \u001b[1mINFO    \u001b[0m | \u001b[36mtabularbench.core.trainer_finetune\u001b[0m:\u001b[36mtrain\u001b[0m:\u001b[36m94\u001b[0m - \u001b[1mEpoch 001 | Train loss: 0.5223 | Train score: 0.7383 | Val loss: 0.4558 | Val score: 0.7701\u001b[0m\n",
      "\u001b[32m2024-10-07 12:21:24.833\u001b[0m | \u001b[1mINFO    \u001b[0m | \u001b[36mtabularbench.core.trainer_finetune\u001b[0m:\u001b[36mtrain\u001b[0m:\u001b[36m94\u001b[0m - \u001b[1mEpoch 002 | Train loss: 0.5067 | Train score: 0.7584 | Val loss: 0.4531 | Val score: 0.7701\u001b[0m\n",
      "\u001b[32m2024-10-07 12:21:26.655\u001b[0m | \u001b[1mINFO    \u001b[0m | \u001b[36mtabularbench.core.trainer_finetune\u001b[0m:\u001b[36mtrain\u001b[0m:\u001b[36m94\u001b[0m - \u001b[1mEpoch 003 | Train loss: 0.5710 | Train score: 0.7181 | Val loss: 0.4504 | Val score: 0.7861\u001b[0m\n",
      "\u001b[32m2024-10-07 12:21:28.518\u001b[0m | \u001b[1mINFO    \u001b[0m | \u001b[36mtabularbench.core.trainer_finetune\u001b[0m:\u001b[36mtrain\u001b[0m:\u001b[36m94\u001b[0m - \u001b[1mEpoch 004 | Train loss: 0.4815 | Train score: 0.7248 | Val loss: 0.4520 | Val score: 0.7968\u001b[0m\n",
      "\u001b[32m2024-10-07 12:21:30.379\u001b[0m | \u001b[1mINFO    \u001b[0m | \u001b[36mtabularbench.core.trainer_finetune\u001b[0m:\u001b[36mtrain\u001b[0m:\u001b[36m94\u001b[0m - \u001b[1mEpoch 005 | Train loss: 0.4955 | Train score: 0.7315 | Val loss: 0.4570 | Val score: 0.7968\u001b[0m\n",
      "\u001b[32m2024-10-07 12:21:32.267\u001b[0m | \u001b[1mINFO    \u001b[0m | \u001b[36mtabularbench.core.trainer_finetune\u001b[0m:\u001b[36mtrain\u001b[0m:\u001b[36m94\u001b[0m - \u001b[1mEpoch 006 | Train loss: 0.4613 | Train score: 0.7584 | Val loss: 0.4568 | Val score: 0.8021\u001b[0m\n",
      "\u001b[32m2024-10-07 12:21:34.140\u001b[0m | \u001b[1mINFO    \u001b[0m | \u001b[36mtabularbench.core.trainer_finetune\u001b[0m:\u001b[36mtrain\u001b[0m:\u001b[36m94\u001b[0m - \u001b[1mEpoch 007 | Train loss: 0.4462 | Train score: 0.7718 | Val loss: 0.4602 | Val score: 0.7968\u001b[0m\n",
      "\u001b[32m2024-10-07 12:21:35.956\u001b[0m | \u001b[1mINFO    \u001b[0m | \u001b[36mtabularbench.core.trainer_finetune\u001b[0m:\u001b[36mtrain\u001b[0m:\u001b[36m94\u001b[0m - \u001b[1mEpoch 008 | Train loss: 0.4169 | Train score: 0.7919 | Val loss: 0.4629 | Val score: 0.8075\u001b[0m\n",
      "\u001b[32m2024-10-07 12:21:37.770\u001b[0m | \u001b[1mINFO    \u001b[0m | \u001b[36mtabularbench.core.trainer_finetune\u001b[0m:\u001b[36mtrain\u001b[0m:\u001b[36m94\u001b[0m - \u001b[1mEpoch 009 | Train loss: 0.5332 | Train score: 0.7114 | Val loss: 0.4665 | Val score: 0.8075\u001b[0m\n",
      "\u001b[32m2024-10-07 12:21:39.681\u001b[0m | \u001b[1mINFO    \u001b[0m | \u001b[36mtabularbench.core.trainer_finetune\u001b[0m:\u001b[36mtrain\u001b[0m:\u001b[36m94\u001b[0m - \u001b[1mEpoch 010 | Train loss: 0.3866 | Train score: 0.8389 | Val loss: 0.4787 | Val score: 0.8075\u001b[0m\n",
      "\u001b[32m2024-10-07 12:21:46.624\u001b[0m | \u001b[1mINFO    \u001b[0m | \u001b[36mtabularbench.core.trainer_finetune\u001b[0m:\u001b[36mtrain\u001b[0m:\u001b[36m83\u001b[0m - \u001b[1mEpoch 000 | Train loss: -.---- | Train score: -.---- | Val loss: 0.4961 | Val score: 0.7754\u001b[0m\n",
      "\u001b[32m2024-10-07 12:21:48.441\u001b[0m | \u001b[1mINFO    \u001b[0m | \u001b[36mtabularbench.core.trainer_finetune\u001b[0m:\u001b[36mtrain\u001b[0m:\u001b[36m94\u001b[0m - \u001b[1mEpoch 001 | Train loss: 0.4897 | Train score: 0.7852 | Val loss: 0.5031 | Val score: 0.7807\u001b[0m\n",
      "\u001b[32m2024-10-07 12:21:49.929\u001b[0m | \u001b[1mINFO    \u001b[0m | \u001b[36mtabularbench.core.trainer_finetune\u001b[0m:\u001b[36mtrain\u001b[0m:\u001b[36m94\u001b[0m - \u001b[1mEpoch 002 | Train loss: 0.4307 | Train score: 0.7987 | Val loss: 0.5116 | Val score: 0.7807\u001b[0m\n",
      "\u001b[32m2024-10-07 12:21:51.572\u001b[0m | \u001b[1mINFO    \u001b[0m | \u001b[36mtabularbench.core.trainer_finetune\u001b[0m:\u001b[36mtrain\u001b[0m:\u001b[36m94\u001b[0m - \u001b[1mEpoch 003 | Train loss: 0.4115 | Train score: 0.8188 | Val loss: 0.5282 | Val score: 0.7701\u001b[0m\n",
      "\u001b[32m2024-10-07 12:21:53.150\u001b[0m | \u001b[1mINFO    \u001b[0m | \u001b[36mtabularbench.core.trainer_finetune\u001b[0m:\u001b[36mtrain\u001b[0m:\u001b[36m94\u001b[0m - \u001b[1mEpoch 004 | Train loss: 0.3857 | Train score: 0.8188 | Val loss: 0.5441 | Val score: 0.7540\u001b[0m\n",
      "\u001b[32m2024-10-07 12:21:55.091\u001b[0m | \u001b[1mINFO    \u001b[0m | \u001b[36mtabularbench.core.trainer_finetune\u001b[0m:\u001b[36mtrain\u001b[0m:\u001b[36m94\u001b[0m - \u001b[1mEpoch 005 | Train loss: 0.5080 | Train score: 0.7718 | Val loss: 0.5237 | Val score: 0.7594\u001b[0m\n",
      "\u001b[32m2024-10-07 12:21:56.812\u001b[0m | \u001b[1mINFO    \u001b[0m | \u001b[36mtabularbench.core.trainer_finetune\u001b[0m:\u001b[36mtrain\u001b[0m:\u001b[36m94\u001b[0m - \u001b[1mEpoch 006 | Train loss: 0.3911 | Train score: 0.8658 | Val loss: 0.5149 | Val score: 0.7647\u001b[0m\n",
      "\u001b[32m2024-10-07 12:21:58.504\u001b[0m | \u001b[1mINFO    \u001b[0m | \u001b[36mtabularbench.core.trainer_finetune\u001b[0m:\u001b[36mtrain\u001b[0m:\u001b[36m94\u001b[0m - \u001b[1mEpoch 007 | Train loss: 0.4488 | Train score: 0.7919 | Val loss: 0.5163 | Val score: 0.7701\u001b[0m\n",
      "\u001b[32m2024-10-07 12:22:00.003\u001b[0m | \u001b[1mINFO    \u001b[0m | \u001b[36mtabularbench.core.trainer_finetune\u001b[0m:\u001b[36mtrain\u001b[0m:\u001b[36m94\u001b[0m - \u001b[1mEpoch 008 | Train loss: 0.4953 | Train score: 0.7383 | Val loss: 0.5168 | Val score: 0.7540\u001b[0m\n",
      "\u001b[32m2024-10-07 12:22:01.561\u001b[0m | \u001b[1mINFO    \u001b[0m | \u001b[36mtabularbench.core.trainer_finetune\u001b[0m:\u001b[36mtrain\u001b[0m:\u001b[36m94\u001b[0m - \u001b[1mEpoch 009 | Train loss: 0.4179 | Train score: 0.7852 | Val loss: 0.5238 | Val score: 0.7540\u001b[0m\n",
      "\u001b[32m2024-10-07 12:22:03.401\u001b[0m | \u001b[1mINFO    \u001b[0m | \u001b[36mtabularbench.core.trainer_finetune\u001b[0m:\u001b[36mtrain\u001b[0m:\u001b[36m94\u001b[0m - \u001b[1mEpoch 010 | Train loss: 0.5083 | Train score: 0.7383 | Val loss: 0.5255 | Val score: 0.7594\u001b[0m\n",
      "\u001b[32m2024-10-07 12:22:10.752\u001b[0m | \u001b[1mINFO    \u001b[0m | \u001b[36mtabularbench.core.trainer_finetune\u001b[0m:\u001b[36mtrain\u001b[0m:\u001b[36m83\u001b[0m - \u001b[1mEpoch 000 | Train loss: -.---- | Train score: -.---- | Val loss: 0.4912 | Val score: 0.7487\u001b[0m\n",
      "\u001b[32m2024-10-07 12:22:12.479\u001b[0m | \u001b[1mINFO    \u001b[0m | \u001b[36mtabularbench.core.trainer_finetune\u001b[0m:\u001b[36mtrain\u001b[0m:\u001b[36m94\u001b[0m - \u001b[1mEpoch 001 | Train loss: 0.4515 | Train score: 0.7919 | Val loss: 0.4943 | Val score: 0.7594\u001b[0m\n",
      "\u001b[32m2024-10-07 12:22:14.309\u001b[0m | \u001b[1mINFO    \u001b[0m | \u001b[36mtabularbench.core.trainer_finetune\u001b[0m:\u001b[36mtrain\u001b[0m:\u001b[36m94\u001b[0m - \u001b[1mEpoch 002 | Train loss: 0.4668 | Train score: 0.7852 | Val loss: 0.5158 | Val score: 0.7701\u001b[0m\n",
      "\u001b[32m2024-10-07 12:22:15.715\u001b[0m | \u001b[1mINFO    \u001b[0m | \u001b[36mtabularbench.core.trainer_finetune\u001b[0m:\u001b[36mtrain\u001b[0m:\u001b[36m94\u001b[0m - \u001b[1mEpoch 003 | Train loss: 0.4214 | Train score: 0.7987 | Val loss: 0.5540 | Val score: 0.7540\u001b[0m\n",
      "\u001b[32m2024-10-07 12:22:17.568\u001b[0m | \u001b[1mINFO    \u001b[0m | \u001b[36mtabularbench.core.trainer_finetune\u001b[0m:\u001b[36mtrain\u001b[0m:\u001b[36m94\u001b[0m - \u001b[1mEpoch 004 | Train loss: 0.4220 | Train score: 0.7852 | Val loss: 0.5846 | Val score: 0.7219\u001b[0m\n",
      "\u001b[32m2024-10-07 12:22:19.520\u001b[0m | \u001b[1mINFO    \u001b[0m | \u001b[36mtabularbench.core.trainer_finetune\u001b[0m:\u001b[36mtrain\u001b[0m:\u001b[36m94\u001b[0m - \u001b[1mEpoch 005 | Train loss: 0.4463 | Train score: 0.8121 | Val loss: 0.5852 | Val score: 0.7219\u001b[0m\n",
      "\u001b[32m2024-10-07 12:22:21.116\u001b[0m | \u001b[1mINFO    \u001b[0m | \u001b[36mtabularbench.core.trainer_finetune\u001b[0m:\u001b[36mtrain\u001b[0m:\u001b[36m94\u001b[0m - \u001b[1mEpoch 006 | Train loss: 0.4944 | Train score: 0.7718 | Val loss: 0.5617 | Val score: 0.7433\u001b[0m\n",
      "\u001b[32m2024-10-07 12:22:22.970\u001b[0m | \u001b[1mINFO    \u001b[0m | \u001b[36mtabularbench.core.trainer_finetune\u001b[0m:\u001b[36mtrain\u001b[0m:\u001b[36m94\u001b[0m - \u001b[1mEpoch 007 | Train loss: 0.4285 | Train score: 0.7651 | Val loss: 0.5385 | Val score: 0.7540\u001b[0m\n",
      "\u001b[32m2024-10-07 12:22:24.828\u001b[0m | \u001b[1mINFO    \u001b[0m | \u001b[36mtabularbench.core.trainer_finetune\u001b[0m:\u001b[36mtrain\u001b[0m:\u001b[36m94\u001b[0m - \u001b[1mEpoch 008 | Train loss: 0.4641 | Train score: 0.7584 | Val loss: 0.5269 | Val score: 0.7540\u001b[0m\n",
      "\u001b[32m2024-10-07 12:22:26.691\u001b[0m | \u001b[1mINFO    \u001b[0m | \u001b[36mtabularbench.core.trainer_finetune\u001b[0m:\u001b[36mtrain\u001b[0m:\u001b[36m94\u001b[0m - \u001b[1mEpoch 009 | Train loss: 0.4231 | Train score: 0.7718 | Val loss: 0.5272 | Val score: 0.7433\u001b[0m\n",
      "\u001b[32m2024-10-07 12:22:28.713\u001b[0m | \u001b[1mINFO    \u001b[0m | \u001b[36mtabularbench.core.trainer_finetune\u001b[0m:\u001b[36mtrain\u001b[0m:\u001b[36m94\u001b[0m - \u001b[1mEpoch 010 | Train loss: 0.4203 | Train score: 0.8054 | Val loss: 0.5308 | Val score: 0.7380\u001b[0m\n"
     ]
    },
    {
     "name": "stdout",
     "output_type": "stream",
     "text": [
      "                        accuracy  precision    recall   roc_auc     runtime\n",
      "XGBClassifier           0.725757   0.146564  0.723891  0.724885    0.053333\n",
      "LogisticRegression      0.745396   0.154930  0.711016  0.729323    0.106000\n",
      "TabPFNClassifier        0.757790   0.170888  0.771102  0.764013    8.327999\n",
      "TabForestPFNClassifier  0.773588   0.184911  0.793991  0.783127   24.987333\n",
      "XGBoostOptim            0.774548   0.187351  0.805436  0.788989  152.246673\n"
     ]
    }
   ],
   "source": [
    "for sampling in [None, undersample]:\n",
    "    cv = 3\n",
    "    strat_split = True\n",
    "    n_optim = 1000\n",
    "    ft_epochs = 10\n",
    "    max_samples = None\n",
    "    metrics = metrics = [\"accuracy\", \"precision\", \"recall\", \"roc_auc\"]\n",
    "    models = [\n",
    "        XGBClassifier(n_estimators=5, max_depth=5, learning_rate=1, objective='binary:logistic'),\n",
    "        XGBoostOptim(n_optim=n_optim),\n",
    "        LogisticRegression(max_iter=500), \n",
    "        TabPFNClassifier(device='cpu', N_ensemble_configurations=5, no_preprocess_mode=True),\n",
    "        TabForestPFNClassifier(\"saved_models/tabforest/mix600k/tabforestpfn.pt\", \"saved_models/tabforest/mix600k/config_run.yaml\", max_epochs=ft_epochs)\n",
    "    ]\n",
    "    results = pd.DataFrame(np.zeros((len(models), len(metrics)+1)), \n",
    "                           index=[m.__class__.__name__ for m in models],\n",
    "                          columns=metrics+[\"runtime\"])\n",
    "    \n",
    "    for ii, model in enumerate(models):\n",
    "        results.iloc[ii,:] = cross_validate_sample(model, data, labels, metrics, strat_split, cv, sampling, max_samples)\n",
    "    results_sorted = results.sort_values(\"roc_auc\")\n",
    "    print(results_sorted)"
   ]
  },
  {
   "cell_type": "code",
   "execution_count": null,
   "id": "5983e6a1-a7ce-4694-b775-e83498cd3be9",
   "metadata": {},
   "outputs": [],
   "source": []
  },
  {
   "cell_type": "code",
   "execution_count": 6,
   "id": "819f6306-686d-42f1-829c-303890202785",
   "metadata": {},
   "outputs": [
    {
     "name": "stdout",
     "output_type": "stream",
     "text": [
      "                        accuracy  precision    recall   roc_auc     runtime\n",
      "XGBClassifier           0.728288   0.141617  0.682403  0.706837    0.055000\n",
      "LogisticRegression      0.738850   0.145708  0.673820  0.708447    0.105000\n",
      "TabPFNClassifier        0.768264   0.175135  0.753934  0.761565   10.005333\n",
      "TabForestPFNClassifier  0.784237   0.186522  0.749642  0.768063   29.427220\n",
      "XGBoostOptim            0.797853   0.201961  0.785408  0.792035  174.394001\n"
     ]
    }
   ],
   "source": [
    "print(results_sorted)"
   ]
  },
  {
   "cell_type": "code",
   "execution_count": null,
   "id": "ac970c40-6003-4c24-b454-014ba31f6b26",
   "metadata": {},
   "outputs": [],
   "source": []
  }
 ],
 "metadata": {
  "kernelspec": {
   "display_name": "Python 3 (ipykernel)",
   "language": "python",
   "name": "python3"
  },
  "language_info": {
   "codemirror_mode": {
    "name": "ipython",
    "version": 3
   },
   "file_extension": ".py",
   "mimetype": "text/x-python",
   "name": "python",
   "nbconvert_exporter": "python",
   "pygments_lexer": "ipython3",
   "version": "3.11.0"
  }
 },
 "nbformat": 4,
 "nbformat_minor": 5
}
