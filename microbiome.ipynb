{
 "cells": [
  {
   "cell_type": "code",
   "execution_count": 8,
   "id": "716a0985-a3e5-47be-acc6-d58fb95fa8db",
   "metadata": {},
   "outputs": [],
   "source": [
    "from xgboost import XGBClassifier\n",
    "import warnings\n",
    "from tabpfn_new.scripts.transformer_prediction_interface import TabPFNClassifier\n",
    "import numpy as np\n",
    "import pandas as pd\n",
    "import os\n",
    "from sklearn.linear_model import LogisticRegression\n",
    "from sklearn.decomposition import PCA\n",
    "from sklearn.model_selection import train_test_split, cross_val_score, cross_validate\n",
    "from data_prep_utils import *\n",
    "from evaluate import *\n",
    "from load_models import *\n",
    "import matplotlib.pyplot as plt\n",
    "import torch\n",
    "import openml\n",
    "import time"
   ]
  },
  {
   "cell_type": "code",
   "execution_count": 9,
   "id": "9fd72aea-dcf4-4d2c-bc6b-63eb9ccfdd41",
   "metadata": {},
   "outputs": [],
   "source": [
    "path = \"datasets/data_all.csv\"\n",
    "data, labels = get_microbiome(path)\n",
    "data = top_non_zero(data)\n",
    "data, labels = unison_shuffled_copies(data, labels)"
   ]
  },
  {
   "cell_type": "code",
   "execution_count": 11,
   "id": "879ba0a8-b675-49eb-a1dc-64e836de555b",
   "metadata": {},
   "outputs": [
    {
     "name": "stderr",
     "output_type": "stream",
     "text": [
      "C:\\Users\\lenna\\anaconda3\\envs\\master3\\Lib\\site-packages\\sklearn\\metrics\\_classification.py:1517: UndefinedMetricWarning: Precision is ill-defined and being set to 0.0 due to no predicted samples. Use `zero_division` parameter to control this behavior.\n",
      "  _warn_prf(average, modifier, f\"{metric.capitalize()} is\", len(result))\n",
      "C:\\Users\\lenna\\anaconda3\\envs\\master3\\Lib\\site-packages\\sklearn\\metrics\\_classification.py:1517: UndefinedMetricWarning: Precision is ill-defined and being set to 0.0 due to no predicted samples. Use `zero_division` parameter to control this behavior.\n",
      "  _warn_prf(average, modifier, f\"{metric.capitalize()} is\", len(result))\n",
      "C:\\Users\\lenna\\anaconda3\\envs\\master3\\Lib\\site-packages\\sklearn\\metrics\\_classification.py:1517: UndefinedMetricWarning: Precision is ill-defined and being set to 0.0 due to no predicted samples. Use `zero_division` parameter to control this behavior.\n",
      "  _warn_prf(average, modifier, f\"{metric.capitalize()} is\", len(result))\n",
      "\u001b[32m2024-10-04 23:10:20.043\u001b[0m | \u001b[1mINFO    \u001b[0m | \u001b[36mtabularbench.core.trainer_finetune\u001b[0m:\u001b[36mtrain\u001b[0m:\u001b[36m83\u001b[0m - \u001b[1mEpoch 000 | Train loss: -.---- | Train score: -.---- | Val loss: 0.1792 | Val score: 0.9400\u001b[0m\n",
      "\u001b[32m2024-10-04 23:10:22.615\u001b[0m | \u001b[1mINFO    \u001b[0m | \u001b[36mtabularbench.core.trainer_finetune\u001b[0m:\u001b[36mtrain\u001b[0m:\u001b[36m94\u001b[0m - \u001b[1mEpoch 001 | Train loss: 0.1734 | Train score: 0.9437 | Val loss: 0.1745 | Val score: 0.9400\u001b[0m\n",
      "\u001b[32m2024-10-04 23:10:25.231\u001b[0m | \u001b[1mINFO    \u001b[0m | \u001b[36mtabularbench.core.trainer_finetune\u001b[0m:\u001b[36mtrain\u001b[0m:\u001b[36m94\u001b[0m - \u001b[1mEpoch 002 | Train loss: 0.1958 | Train score: 0.9375 | Val loss: 0.1776 | Val score: 0.9400\u001b[0m\n",
      "\u001b[32m2024-10-04 23:10:27.824\u001b[0m | \u001b[1mINFO    \u001b[0m | \u001b[36mtabularbench.core.trainer_finetune\u001b[0m:\u001b[36mtrain\u001b[0m:\u001b[36m94\u001b[0m - \u001b[1mEpoch 003 | Train loss: 0.1489 | Train score: 0.9500 | Val loss: 0.1798 | Val score: 0.9400\u001b[0m\n",
      "\u001b[32m2024-10-04 23:10:30.657\u001b[0m | \u001b[1mINFO    \u001b[0m | \u001b[36mtabularbench.core.trainer_finetune\u001b[0m:\u001b[36mtrain\u001b[0m:\u001b[36m94\u001b[0m - \u001b[1mEpoch 004 | Train loss: 0.1414 | Train score: 0.9375 | Val loss: 0.1845 | Val score: 0.9400\u001b[0m\n",
      "\u001b[32m2024-10-04 23:10:33.165\u001b[0m | \u001b[1mINFO    \u001b[0m | \u001b[36mtabularbench.core.trainer_finetune\u001b[0m:\u001b[36mtrain\u001b[0m:\u001b[36m94\u001b[0m - \u001b[1mEpoch 005 | Train loss: 0.1676 | Train score: 0.9187 | Val loss: 0.1893 | Val score: 0.9450\u001b[0m\n",
      "\u001b[32m2024-10-04 23:10:36.854\u001b[0m | \u001b[1mINFO    \u001b[0m | \u001b[36mtabularbench.core.trainer_finetune\u001b[0m:\u001b[36mtrain\u001b[0m:\u001b[36m94\u001b[0m - \u001b[1mEpoch 006 | Train loss: 0.1976 | Train score: 0.9375 | Val loss: 0.1899 | Val score: 0.9450\u001b[0m\n",
      "\u001b[32m2024-10-04 23:10:39.423\u001b[0m | \u001b[1mINFO    \u001b[0m | \u001b[36mtabularbench.core.trainer_finetune\u001b[0m:\u001b[36mtrain\u001b[0m:\u001b[36m94\u001b[0m - \u001b[1mEpoch 007 | Train loss: 0.1648 | Train score: 0.9437 | Val loss: 0.1903 | Val score: 0.9500\u001b[0m\n",
      "\u001b[32m2024-10-04 23:10:41.762\u001b[0m | \u001b[1mINFO    \u001b[0m | \u001b[36mtabularbench.core.trainer_finetune\u001b[0m:\u001b[36mtrain\u001b[0m:\u001b[36m94\u001b[0m - \u001b[1mEpoch 008 | Train loss: 0.1526 | Train score: 0.9500 | Val loss: 0.1891 | Val score: 0.9400\u001b[0m\n",
      "\u001b[32m2024-10-04 23:10:44.095\u001b[0m | \u001b[1mINFO    \u001b[0m | \u001b[36mtabularbench.core.trainer_finetune\u001b[0m:\u001b[36mtrain\u001b[0m:\u001b[36m94\u001b[0m - \u001b[1mEpoch 009 | Train loss: 0.1438 | Train score: 0.9375 | Val loss: 0.1886 | Val score: 0.9400\u001b[0m\n",
      "\u001b[32m2024-10-04 23:10:47.437\u001b[0m | \u001b[1mINFO    \u001b[0m | \u001b[36mtabularbench.core.trainer_finetune\u001b[0m:\u001b[36mtrain\u001b[0m:\u001b[36m94\u001b[0m - \u001b[1mEpoch 010 | Train loss: 0.1511 | Train score: 0.9563 | Val loss: 0.1887 | Val score: 0.9400\u001b[0m\n",
      "\u001b[32m2024-10-04 23:10:49.949\u001b[0m | \u001b[1mINFO    \u001b[0m | \u001b[36mtabularbench.core.trainer_finetune\u001b[0m:\u001b[36mtrain\u001b[0m:\u001b[36m83\u001b[0m - \u001b[1mEpoch 000 | Train loss: -.---- | Train score: -.---- | Val loss: 0.1875 | Val score: 0.9450\u001b[0m\n",
      "\u001b[32m2024-10-04 23:10:52.902\u001b[0m | \u001b[1mINFO    \u001b[0m | \u001b[36mtabularbench.core.trainer_finetune\u001b[0m:\u001b[36mtrain\u001b[0m:\u001b[36m94\u001b[0m - \u001b[1mEpoch 001 | Train loss: 0.1824 | Train score: 0.9375 | Val loss: 0.1852 | Val score: 0.9400\u001b[0m\n",
      "\u001b[32m2024-10-04 23:10:55.113\u001b[0m | \u001b[1mINFO    \u001b[0m | \u001b[36mtabularbench.core.trainer_finetune\u001b[0m:\u001b[36mtrain\u001b[0m:\u001b[36m94\u001b[0m - \u001b[1mEpoch 002 | Train loss: 0.1978 | Train score: 0.9250 | Val loss: 0.1822 | Val score: 0.9450\u001b[0m\n",
      "\u001b[32m2024-10-04 23:10:57.324\u001b[0m | \u001b[1mINFO    \u001b[0m | \u001b[36mtabularbench.core.trainer_finetune\u001b[0m:\u001b[36mtrain\u001b[0m:\u001b[36m94\u001b[0m - \u001b[1mEpoch 003 | Train loss: 0.1638 | Train score: 0.9375 | Val loss: 0.1813 | Val score: 0.9500\u001b[0m\n",
      "\u001b[32m2024-10-04 23:10:59.499\u001b[0m | \u001b[1mINFO    \u001b[0m | \u001b[36mtabularbench.core.trainer_finetune\u001b[0m:\u001b[36mtrain\u001b[0m:\u001b[36m94\u001b[0m - \u001b[1mEpoch 004 | Train loss: 0.1765 | Train score: 0.9375 | Val loss: 0.1818 | Val score: 0.9400\u001b[0m\n",
      "\u001b[32m2024-10-04 23:11:01.535\u001b[0m | \u001b[1mINFO    \u001b[0m | \u001b[36mtabularbench.core.trainer_finetune\u001b[0m:\u001b[36mtrain\u001b[0m:\u001b[36m94\u001b[0m - \u001b[1mEpoch 005 | Train loss: 0.1526 | Train score: 0.9625 | Val loss: 0.1850 | Val score: 0.9350\u001b[0m\n",
      "\u001b[32m2024-10-04 23:11:03.561\u001b[0m | \u001b[1mINFO    \u001b[0m | \u001b[36mtabularbench.core.trainer_finetune\u001b[0m:\u001b[36mtrain\u001b[0m:\u001b[36m94\u001b[0m - \u001b[1mEpoch 006 | Train loss: 0.1882 | Train score: 0.9375 | Val loss: 0.1845 | Val score: 0.9350\u001b[0m\n",
      "\u001b[32m2024-10-04 23:11:05.683\u001b[0m | \u001b[1mINFO    \u001b[0m | \u001b[36mtabularbench.core.trainer_finetune\u001b[0m:\u001b[36mtrain\u001b[0m:\u001b[36m94\u001b[0m - \u001b[1mEpoch 007 | Train loss: 0.1445 | Train score: 0.9563 | Val loss: 0.1835 | Val score: 0.9350\u001b[0m\n",
      "\u001b[32m2024-10-04 23:11:07.814\u001b[0m | \u001b[1mINFO    \u001b[0m | \u001b[36mtabularbench.core.trainer_finetune\u001b[0m:\u001b[36mtrain\u001b[0m:\u001b[36m94\u001b[0m - \u001b[1mEpoch 008 | Train loss: 0.1761 | Train score: 0.9437 | Val loss: 0.1823 | Val score: 0.9350\u001b[0m\n",
      "\u001b[32m2024-10-04 23:11:09.707\u001b[0m | \u001b[1mINFO    \u001b[0m | \u001b[36mtabularbench.core.trainer_finetune\u001b[0m:\u001b[36mtrain\u001b[0m:\u001b[36m94\u001b[0m - \u001b[1mEpoch 009 | Train loss: 0.1595 | Train score: 0.9563 | Val loss: 0.1819 | Val score: 0.9350\u001b[0m\n",
      "\u001b[32m2024-10-04 23:11:11.505\u001b[0m | \u001b[1mINFO    \u001b[0m | \u001b[36mtabularbench.core.trainer_finetune\u001b[0m:\u001b[36mtrain\u001b[0m:\u001b[36m94\u001b[0m - \u001b[1mEpoch 010 | Train loss: 0.1429 | Train score: 0.9500 | Val loss: 0.1821 | Val score: 0.9350\u001b[0m\n",
      "\u001b[32m2024-10-04 23:11:13.528\u001b[0m | \u001b[1mINFO    \u001b[0m | \u001b[36mtabularbench.core.trainer_finetune\u001b[0m:\u001b[36mtrain\u001b[0m:\u001b[36m83\u001b[0m - \u001b[1mEpoch 000 | Train loss: -.---- | Train score: -.---- | Val loss: 0.1642 | Val score: 0.9400\u001b[0m\n",
      "\u001b[32m2024-10-04 23:11:15.516\u001b[0m | \u001b[1mINFO    \u001b[0m | \u001b[36mtabularbench.core.trainer_finetune\u001b[0m:\u001b[36mtrain\u001b[0m:\u001b[36m94\u001b[0m - \u001b[1mEpoch 001 | Train loss: 0.2199 | Train score: 0.9375 | Val loss: 0.1673 | Val score: 0.9400\u001b[0m\n",
      "\u001b[32m2024-10-04 23:11:17.482\u001b[0m | \u001b[1mINFO    \u001b[0m | \u001b[36mtabularbench.core.trainer_finetune\u001b[0m:\u001b[36mtrain\u001b[0m:\u001b[36m94\u001b[0m - \u001b[1mEpoch 002 | Train loss: 0.2333 | Train score: 0.9375 | Val loss: 0.1735 | Val score: 0.9400\u001b[0m\n",
      "\u001b[32m2024-10-04 23:11:19.415\u001b[0m | \u001b[1mINFO    \u001b[0m | \u001b[36mtabularbench.core.trainer_finetune\u001b[0m:\u001b[36mtrain\u001b[0m:\u001b[36m94\u001b[0m - \u001b[1mEpoch 003 | Train loss: 0.1833 | Train score: 0.9375 | Val loss: 0.1708 | Val score: 0.9400\u001b[0m\n",
      "\u001b[32m2024-10-04 23:11:21.025\u001b[0m | \u001b[1mINFO    \u001b[0m | \u001b[36mtabularbench.core.trainer_finetune\u001b[0m:\u001b[36mtrain\u001b[0m:\u001b[36m94\u001b[0m - \u001b[1mEpoch 004 | Train loss: 0.1808 | Train score: 0.9375 | Val loss: 0.1672 | Val score: 0.9350\u001b[0m\n",
      "\u001b[32m2024-10-04 23:11:22.771\u001b[0m | \u001b[1mINFO    \u001b[0m | \u001b[36mtabularbench.core.trainer_finetune\u001b[0m:\u001b[36mtrain\u001b[0m:\u001b[36m94\u001b[0m - \u001b[1mEpoch 005 | Train loss: 0.1710 | Train score: 0.9375 | Val loss: 0.1651 | Val score: 0.9400\u001b[0m\n",
      "\u001b[32m2024-10-04 23:11:24.974\u001b[0m | \u001b[1mINFO    \u001b[0m | \u001b[36mtabularbench.core.trainer_finetune\u001b[0m:\u001b[36mtrain\u001b[0m:\u001b[36m94\u001b[0m - \u001b[1mEpoch 006 | Train loss: 0.1955 | Train score: 0.9375 | Val loss: 0.1640 | Val score: 0.9400\u001b[0m\n",
      "\u001b[32m2024-10-04 23:11:27.078\u001b[0m | \u001b[1mINFO    \u001b[0m | \u001b[36mtabularbench.core.trainer_finetune\u001b[0m:\u001b[36mtrain\u001b[0m:\u001b[36m94\u001b[0m - \u001b[1mEpoch 007 | Train loss: 0.1827 | Train score: 0.9375 | Val loss: 0.1620 | Val score: 0.9400\u001b[0m\n",
      "\u001b[32m2024-10-04 23:11:29.028\u001b[0m | \u001b[1mINFO    \u001b[0m | \u001b[36mtabularbench.core.trainer_finetune\u001b[0m:\u001b[36mtrain\u001b[0m:\u001b[36m94\u001b[0m - \u001b[1mEpoch 008 | Train loss: 0.2135 | Train score: 0.9375 | Val loss: 0.1603 | Val score: 0.9350\u001b[0m\n",
      "\u001b[32m2024-10-04 23:11:31.047\u001b[0m | \u001b[1mINFO    \u001b[0m | \u001b[36mtabularbench.core.trainer_finetune\u001b[0m:\u001b[36mtrain\u001b[0m:\u001b[36m94\u001b[0m - \u001b[1mEpoch 009 | Train loss: 0.1706 | Train score: 0.9437 | Val loss: 0.1539 | Val score: 0.9300\u001b[0m\n",
      "\u001b[32m2024-10-04 23:11:33.002\u001b[0m | \u001b[1mINFO    \u001b[0m | \u001b[36mtabularbench.core.trainer_finetune\u001b[0m:\u001b[36mtrain\u001b[0m:\u001b[36m94\u001b[0m - \u001b[1mEpoch 010 | Train loss: 0.1346 | Train score: 0.9563 | Val loss: 0.1495 | Val score: 0.9350\u001b[0m\n"
     ]
    },
    {
     "name": "stdout",
     "output_type": "stream",
     "text": [
      "                        accuracy  precision    recall   roc_auc     runtime\n",
      "TabPFNClassifier        0.939880   0.000000  0.000000  0.500000    3.995666\n",
      "XGBoostOptim            0.942552   0.738095  0.088889  0.543023  139.322846\n",
      "XGBClassifier           0.933200   0.291667  0.155556  0.569249    0.033000\n",
      "LogisticRegression      0.911156   0.235349  0.188889  0.573122    0.071000\n",
      "TabForestPFNClassifier  0.940548   0.519814  0.211111  0.599159   24.793001\n"
     ]
    },
    {
     "name": "stderr",
     "output_type": "stream",
     "text": [
      "\u001b[32m2024-10-04 23:15:38.821\u001b[0m | \u001b[1mINFO    \u001b[0m | \u001b[36mtabularbench.core.trainer_finetune\u001b[0m:\u001b[36mtrain\u001b[0m:\u001b[36m83\u001b[0m - \u001b[1mEpoch 000 | Train loss: -.---- | Train score: -.---- | Val loss: 0.5743 | Val score: 0.7500\u001b[0m\n",
      "\u001b[32m2024-10-04 23:15:39.363\u001b[0m | \u001b[1mINFO    \u001b[0m | \u001b[36mtabularbench.core.trainer_finetune\u001b[0m:\u001b[36mtrain\u001b[0m:\u001b[36m94\u001b[0m - \u001b[1mEpoch 001 | Train loss: 0.5705 | Train score: 0.6500 | Val loss: 0.6255 | Val score: 0.7083\u001b[0m\n",
      "\u001b[32m2024-10-04 23:15:39.856\u001b[0m | \u001b[1mINFO    \u001b[0m | \u001b[36mtabularbench.core.trainer_finetune\u001b[0m:\u001b[36mtrain\u001b[0m:\u001b[36m94\u001b[0m - \u001b[1mEpoch 002 | Train loss: 0.4770 | Train score: 0.8000 | Val loss: 0.6387 | Val score: 0.6667\u001b[0m\n",
      "\u001b[32m2024-10-04 23:15:40.303\u001b[0m | \u001b[1mINFO    \u001b[0m | \u001b[36mtabularbench.core.trainer_finetune\u001b[0m:\u001b[36mtrain\u001b[0m:\u001b[36m94\u001b[0m - \u001b[1mEpoch 003 | Train loss: 0.4497 | Train score: 0.7500 | Val loss: 0.6546 | Val score: 0.6667\u001b[0m\n",
      "\u001b[32m2024-10-04 23:15:40.751\u001b[0m | \u001b[1mINFO    \u001b[0m | \u001b[36mtabularbench.core.trainer_finetune\u001b[0m:\u001b[36mtrain\u001b[0m:\u001b[36m94\u001b[0m - \u001b[1mEpoch 004 | Train loss: 0.5720 | Train score: 0.6000 | Val loss: 0.6592 | Val score: 0.6667\u001b[0m\n",
      "\u001b[32m2024-10-04 23:15:41.195\u001b[0m | \u001b[1mINFO    \u001b[0m | \u001b[36mtabularbench.core.trainer_finetune\u001b[0m:\u001b[36mtrain\u001b[0m:\u001b[36m94\u001b[0m - \u001b[1mEpoch 005 | Train loss: 0.5386 | Train score: 0.7500 | Val loss: 0.6493 | Val score: 0.6667\u001b[0m\n",
      "\u001b[32m2024-10-04 23:15:41.641\u001b[0m | \u001b[1mINFO    \u001b[0m | \u001b[36mtabularbench.core.trainer_finetune\u001b[0m:\u001b[36mtrain\u001b[0m:\u001b[36m94\u001b[0m - \u001b[1mEpoch 006 | Train loss: 0.4029 | Train score: 0.7500 | Val loss: 0.6442 | Val score: 0.6667\u001b[0m\n",
      "\u001b[32m2024-10-04 23:15:42.086\u001b[0m | \u001b[1mINFO    \u001b[0m | \u001b[36mtabularbench.core.trainer_finetune\u001b[0m:\u001b[36mtrain\u001b[0m:\u001b[36m94\u001b[0m - \u001b[1mEpoch 007 | Train loss: 0.3720 | Train score: 0.8000 | Val loss: 0.6481 | Val score: 0.6667\u001b[0m\n",
      "\u001b[32m2024-10-04 23:15:42.504\u001b[0m | \u001b[1mINFO    \u001b[0m | \u001b[36mtabularbench.core.trainer_finetune\u001b[0m:\u001b[36mtrain\u001b[0m:\u001b[36m94\u001b[0m - \u001b[1mEpoch 008 | Train loss: 0.5172 | Train score: 0.8000 | Val loss: 0.6642 | Val score: 0.7083\u001b[0m\n",
      "\u001b[32m2024-10-04 23:15:42.919\u001b[0m | \u001b[1mINFO    \u001b[0m | \u001b[36mtabularbench.core.trainer_finetune\u001b[0m:\u001b[36mtrain\u001b[0m:\u001b[36m94\u001b[0m - \u001b[1mEpoch 009 | Train loss: 0.3689 | Train score: 0.9000 | Val loss: 0.6687 | Val score: 0.7500\u001b[0m\n",
      "\u001b[32m2024-10-04 23:15:43.316\u001b[0m | \u001b[1mINFO    \u001b[0m | \u001b[36mtabularbench.core.trainer_finetune\u001b[0m:\u001b[36mtrain\u001b[0m:\u001b[36m94\u001b[0m - \u001b[1mEpoch 010 | Train loss: 0.4668 | Train score: 0.7500 | Val loss: 0.6842 | Val score: 0.7500\u001b[0m\n",
      "\u001b[32m2024-10-04 23:15:44.224\u001b[0m | \u001b[1mINFO    \u001b[0m | \u001b[36mtabularbench.core.trainer_finetune\u001b[0m:\u001b[36mtrain\u001b[0m:\u001b[36m83\u001b[0m - \u001b[1mEpoch 000 | Train loss: -.---- | Train score: -.---- | Val loss: 0.5406 | Val score: 0.7500\u001b[0m\n",
      "\u001b[32m2024-10-04 23:15:44.743\u001b[0m | \u001b[1mINFO    \u001b[0m | \u001b[36mtabularbench.core.trainer_finetune\u001b[0m:\u001b[36mtrain\u001b[0m:\u001b[36m94\u001b[0m - \u001b[1mEpoch 001 | Train loss: 0.4381 | Train score: 0.8500 | Val loss: 0.5518 | Val score: 0.7500\u001b[0m\n",
      "\u001b[32m2024-10-04 23:15:45.225\u001b[0m | \u001b[1mINFO    \u001b[0m | \u001b[36mtabularbench.core.trainer_finetune\u001b[0m:\u001b[36mtrain\u001b[0m:\u001b[36m94\u001b[0m - \u001b[1mEpoch 002 | Train loss: 0.7757 | Train score: 0.5000 | Val loss: 0.5425 | Val score: 0.7500\u001b[0m\n",
      "\u001b[32m2024-10-04 23:15:45.700\u001b[0m | \u001b[1mINFO    \u001b[0m | \u001b[36mtabularbench.core.trainer_finetune\u001b[0m:\u001b[36mtrain\u001b[0m:\u001b[36m94\u001b[0m - \u001b[1mEpoch 003 | Train loss: 0.4131 | Train score: 0.9000 | Val loss: 0.5523 | Val score: 0.7500\u001b[0m\n",
      "\u001b[32m2024-10-04 23:15:46.175\u001b[0m | \u001b[1mINFO    \u001b[0m | \u001b[36mtabularbench.core.trainer_finetune\u001b[0m:\u001b[36mtrain\u001b[0m:\u001b[36m94\u001b[0m - \u001b[1mEpoch 004 | Train loss: 0.6335 | Train score: 0.6500 | Val loss: 0.5683 | Val score: 0.7500\u001b[0m\n",
      "\u001b[32m2024-10-04 23:15:46.650\u001b[0m | \u001b[1mINFO    \u001b[0m | \u001b[36mtabularbench.core.trainer_finetune\u001b[0m:\u001b[36mtrain\u001b[0m:\u001b[36m94\u001b[0m - \u001b[1mEpoch 005 | Train loss: 0.3811 | Train score: 0.8500 | Val loss: 0.5863 | Val score: 0.7500\u001b[0m\n",
      "\u001b[32m2024-10-04 23:15:47.095\u001b[0m | \u001b[1mINFO    \u001b[0m | \u001b[36mtabularbench.core.trainer_finetune\u001b[0m:\u001b[36mtrain\u001b[0m:\u001b[36m94\u001b[0m - \u001b[1mEpoch 006 | Train loss: 0.4791 | Train score: 0.7000 | Val loss: 0.6072 | Val score: 0.7500\u001b[0m\n",
      "\u001b[32m2024-10-04 23:15:47.538\u001b[0m | \u001b[1mINFO    \u001b[0m | \u001b[36mtabularbench.core.trainer_finetune\u001b[0m:\u001b[36mtrain\u001b[0m:\u001b[36m94\u001b[0m - \u001b[1mEpoch 007 | Train loss: 0.7182 | Train score: 0.6500 | Val loss: 0.6235 | Val score: 0.7500\u001b[0m\n",
      "\u001b[32m2024-10-04 23:15:48.025\u001b[0m | \u001b[1mINFO    \u001b[0m | \u001b[36mtabularbench.core.trainer_finetune\u001b[0m:\u001b[36mtrain\u001b[0m:\u001b[36m94\u001b[0m - \u001b[1mEpoch 008 | Train loss: 0.6622 | Train score: 0.7500 | Val loss: 0.6285 | Val score: 0.7500\u001b[0m\n",
      "\u001b[32m2024-10-04 23:15:48.539\u001b[0m | \u001b[1mINFO    \u001b[0m | \u001b[36mtabularbench.core.trainer_finetune\u001b[0m:\u001b[36mtrain\u001b[0m:\u001b[36m94\u001b[0m - \u001b[1mEpoch 009 | Train loss: 0.6140 | Train score: 0.7000 | Val loss: 0.6273 | Val score: 0.7500\u001b[0m\n",
      "\u001b[32m2024-10-04 23:15:49.021\u001b[0m | \u001b[1mINFO    \u001b[0m | \u001b[36mtabularbench.core.trainer_finetune\u001b[0m:\u001b[36mtrain\u001b[0m:\u001b[36m94\u001b[0m - \u001b[1mEpoch 010 | Train loss: 0.5088 | Train score: 0.7500 | Val loss: 0.6237 | Val score: 0.7083\u001b[0m\n",
      "\u001b[32m2024-10-04 23:15:49.837\u001b[0m | \u001b[1mINFO    \u001b[0m | \u001b[36mtabularbench.core.trainer_finetune\u001b[0m:\u001b[36mtrain\u001b[0m:\u001b[36m83\u001b[0m - \u001b[1mEpoch 000 | Train loss: -.---- | Train score: -.---- | Val loss: 0.4817 | Val score: 0.8333\u001b[0m\n",
      "\u001b[32m2024-10-04 23:15:50.279\u001b[0m | \u001b[1mINFO    \u001b[0m | \u001b[36mtabularbench.core.trainer_finetune\u001b[0m:\u001b[36mtrain\u001b[0m:\u001b[36m94\u001b[0m - \u001b[1mEpoch 001 | Train loss: 0.6099 | Train score: 0.7000 | Val loss: 0.4951 | Val score: 0.8333\u001b[0m\n",
      "\u001b[32m2024-10-04 23:15:50.680\u001b[0m | \u001b[1mINFO    \u001b[0m | \u001b[36mtabularbench.core.trainer_finetune\u001b[0m:\u001b[36mtrain\u001b[0m:\u001b[36m94\u001b[0m - \u001b[1mEpoch 002 | Train loss: 0.5667 | Train score: 0.6500 | Val loss: 0.4937 | Val score: 0.7083\u001b[0m\n",
      "\u001b[32m2024-10-04 23:15:51.078\u001b[0m | \u001b[1mINFO    \u001b[0m | \u001b[36mtabularbench.core.trainer_finetune\u001b[0m:\u001b[36mtrain\u001b[0m:\u001b[36m94\u001b[0m - \u001b[1mEpoch 003 | Train loss: 0.5870 | Train score: 0.6000 | Val loss: 0.4955 | Val score: 0.7083\u001b[0m\n",
      "\u001b[32m2024-10-04 23:15:51.475\u001b[0m | \u001b[1mINFO    \u001b[0m | \u001b[36mtabularbench.core.trainer_finetune\u001b[0m:\u001b[36mtrain\u001b[0m:\u001b[36m94\u001b[0m - \u001b[1mEpoch 004 | Train loss: 0.7233 | Train score: 0.6000 | Val loss: 0.5033 | Val score: 0.7500\u001b[0m\n",
      "\u001b[32m2024-10-04 23:15:51.873\u001b[0m | \u001b[1mINFO    \u001b[0m | \u001b[36mtabularbench.core.trainer_finetune\u001b[0m:\u001b[36mtrain\u001b[0m:\u001b[36m94\u001b[0m - \u001b[1mEpoch 005 | Train loss: 0.7598 | Train score: 0.4500 | Val loss: 0.5158 | Val score: 0.7500\u001b[0m\n",
      "\u001b[32m2024-10-04 23:15:52.293\u001b[0m | \u001b[1mINFO    \u001b[0m | \u001b[36mtabularbench.core.trainer_finetune\u001b[0m:\u001b[36mtrain\u001b[0m:\u001b[36m94\u001b[0m - \u001b[1mEpoch 006 | Train loss: 0.6086 | Train score: 0.7000 | Val loss: 0.5253 | Val score: 0.7500\u001b[0m\n",
      "\u001b[32m2024-10-04 23:15:52.692\u001b[0m | \u001b[1mINFO    \u001b[0m | \u001b[36mtabularbench.core.trainer_finetune\u001b[0m:\u001b[36mtrain\u001b[0m:\u001b[36m94\u001b[0m - \u001b[1mEpoch 007 | Train loss: 0.5183 | Train score: 0.8000 | Val loss: 0.5359 | Val score: 0.7500\u001b[0m\n",
      "\u001b[32m2024-10-04 23:15:53.095\u001b[0m | \u001b[1mINFO    \u001b[0m | \u001b[36mtabularbench.core.trainer_finetune\u001b[0m:\u001b[36mtrain\u001b[0m:\u001b[36m94\u001b[0m - \u001b[1mEpoch 008 | Train loss: 0.5485 | Train score: 0.6500 | Val loss: 0.5532 | Val score: 0.7083\u001b[0m\n",
      "\u001b[32m2024-10-04 23:15:53.527\u001b[0m | \u001b[1mINFO    \u001b[0m | \u001b[36mtabularbench.core.trainer_finetune\u001b[0m:\u001b[36mtrain\u001b[0m:\u001b[36m94\u001b[0m - \u001b[1mEpoch 009 | Train loss: 0.5208 | Train score: 0.8000 | Val loss: 0.6188 | Val score: 0.6250\u001b[0m\n",
      "\u001b[32m2024-10-04 23:15:53.926\u001b[0m | \u001b[1mINFO    \u001b[0m | \u001b[36mtabularbench.core.trainer_finetune\u001b[0m:\u001b[36mtrain\u001b[0m:\u001b[36m94\u001b[0m - \u001b[1mEpoch 010 | Train loss: 0.4262 | Train score: 0.7000 | Val loss: 0.7348 | Val score: 0.5833\u001b[0m\n"
     ]
    },
    {
     "name": "stdout",
     "output_type": "stream",
     "text": [
      "                        accuracy  precision    recall   roc_auc    runtime\n",
      "LogisticRegression      0.604542   0.096905  0.666667  0.633618   0.051334\n",
      "XGBClassifier           0.671343   0.117626  0.688889  0.679555   0.009000\n",
      "XGBoostOptim            0.762191   0.152657  0.644444  0.707084  80.545859\n",
      "TabPFNClassifier        0.726787   0.144723  0.722222  0.724651   0.696001\n",
      "TabForestPFNClassifier  0.738143   0.153100  0.744444  0.741092   5.052999\n"
     ]
    }
   ],
   "source": [
    "for sampling in [None, undersample]:\n",
    "    cv = 3\n",
    "    strat_split = True\n",
    "    n_optim = 1000\n",
    "    ft_epochs = 10\n",
    "    max_samples = 1000\n",
    "    metrics = metrics = [\"accuracy\", \"precision\", \"recall\", \"roc_auc\"]\n",
    "    models = [\n",
    "        XGBClassifier(n_estimators=5, max_depth=5, learning_rate=1, objective='binary:logistic'),\n",
    "        XGBoostOptim(n_optim=n_optim),\n",
    "        LogisticRegression(max_iter=500), \n",
    "        TabPFNClassifier(device='cpu', N_ensemble_configurations=5, no_preprocess_mode=True),\n",
    "        TabForestPFNClassifier(\"saved_models/tabforest/mix600k/tabforestpfn.pt\", \"saved_models/tabforest/mix600k/config_run.yaml\", max_epochs=ft_epochs)\n",
    "    ]\n",
    "    results = pd.DataFrame(np.zeros((len(models), len(metrics)+1)), \n",
    "                           index=[m.__class__.__name__ for m in models],\n",
    "                          columns=metrics+[\"runtime\"])\n",
    "    \n",
    "    for ii, model in enumerate(models):\n",
    "        results.iloc[ii,:] = cross_validate_sample(model, data, labels, metrics, strat_split, cv, sampling, max_samples)\n",
    "    results_sorted = results.sort_values(\"roc_auc\")\n",
    "    print(results_sorted)"
   ]
  },
  {
   "cell_type": "code",
   "execution_count": null,
   "id": "5983e6a1-a7ce-4694-b775-e83498cd3be9",
   "metadata": {},
   "outputs": [],
   "source": []
  },
  {
   "cell_type": "code",
   "execution_count": 6,
   "id": "819f6306-686d-42f1-829c-303890202785",
   "metadata": {},
   "outputs": [
    {
     "name": "stdout",
     "output_type": "stream",
     "text": [
      "                        accuracy  precision    recall   roc_auc     runtime\n",
      "XGBClassifier           0.728288   0.141617  0.682403  0.706837    0.055000\n",
      "LogisticRegression      0.738850   0.145708  0.673820  0.708447    0.105000\n",
      "TabPFNClassifier        0.768264   0.175135  0.753934  0.761565   10.005333\n",
      "TabForestPFNClassifier  0.784237   0.186522  0.749642  0.768063   29.427220\n",
      "XGBoostOptim            0.797853   0.201961  0.785408  0.792035  174.394001\n"
     ]
    }
   ],
   "source": [
    "print(results_sorted)"
   ]
  },
  {
   "cell_type": "code",
   "execution_count": null,
   "id": "ac970c40-6003-4c24-b454-014ba31f6b26",
   "metadata": {},
   "outputs": [],
   "source": []
  }
 ],
 "metadata": {
  "kernelspec": {
   "display_name": "Python 3 (ipykernel)",
   "language": "python",
   "name": "python3"
  },
  "language_info": {
   "codemirror_mode": {
    "name": "ipython",
    "version": 3
   },
   "file_extension": ".py",
   "mimetype": "text/x-python",
   "name": "python",
   "nbconvert_exporter": "python",
   "pygments_lexer": "ipython3",
   "version": "3.11.0"
  }
 },
 "nbformat": 4,
 "nbformat_minor": 5
}
