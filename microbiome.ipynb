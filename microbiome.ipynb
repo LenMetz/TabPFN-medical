{
 "cells": [
  {
   "cell_type": "code",
   "execution_count": 1,
   "id": "716a0985-a3e5-47be-acc6-d58fb95fa8db",
   "metadata": {},
   "outputs": [],
   "source": [
    "from xgboost import XGBClassifier\n",
    "import warnings\n",
    "from tabpfn import TabPFNClassifier\n",
    "import numpy as np\n",
    "import pandas as pd\n",
    "import os\n",
    "from sklearn.linear_model import LogisticRegression\n",
    "from sklearn.decomposition import PCA\n",
    "from sklearn.model_selection import train_test_split, cross_val_score, cross_validate\n",
    "from data_prep_utils import *\n",
    "from evaluate import *\n",
    "from load_models import *\n",
    "import matplotlib.pyplot as plt\n",
    "import torch\n",
    "import openml"
   ]
  },
  {
   "cell_type": "code",
   "execution_count": 2,
   "id": "9fd72aea-dcf4-4d2c-bc6b-63eb9ccfdd41",
   "metadata": {},
   "outputs": [],
   "source": [
    "path = \"datasets/data_all.csv\"\n",
    "data, labels = get_microbiome(path)\n",
    "data = top_non_zero(data)\n",
    "data, labels = unison_shuffled_copies(data, labels)"
   ]
  },
  {
   "cell_type": "code",
   "execution_count": 3,
   "id": "879ba0a8-b675-49eb-a1dc-64e836de555b",
   "metadata": {},
   "outputs": [
    {
     "name": "stderr",
     "output_type": "stream",
     "text": [
      "C:\\Users\\lenna\\anaconda3\\envs\\master3\\Lib\\site-packages\\torch\\utils\\checkpoint.py:464: UserWarning: torch.utils.checkpoint: the use_reentrant parameter should be passed explicitly. In version 2.4 we will raise an exception if use_reentrant is not passed. use_reentrant=False is recommended, but if you need to preserve the current default behavior, you can pass use_reentrant=True. Refer to docs for more details on the differences between the two variants.\n",
      "  warnings.warn(\n",
      "C:\\Users\\lenna\\anaconda3\\envs\\master3\\Lib\\site-packages\\torch\\utils\\checkpoint.py:464: UserWarning: torch.utils.checkpoint: the use_reentrant parameter should be passed explicitly. In version 2.4 we will raise an exception if use_reentrant is not passed. use_reentrant=False is recommended, but if you need to preserve the current default behavior, you can pass use_reentrant=True. Refer to docs for more details on the differences between the two variants.\n",
      "  warnings.warn(\n",
      "C:\\Users\\lenna\\anaconda3\\envs\\master3\\Lib\\site-packages\\torch\\utils\\checkpoint.py:464: UserWarning: torch.utils.checkpoint: the use_reentrant parameter should be passed explicitly. In version 2.4 we will raise an exception if use_reentrant is not passed. use_reentrant=False is recommended, but if you need to preserve the current default behavior, you can pass use_reentrant=True. Refer to docs for more details on the differences between the two variants.\n",
      "  warnings.warn(\n",
      "\u001b[32m2024-09-03 09:59:23.937\u001b[0m | \u001b[1mINFO    \u001b[0m | \u001b[36mtabularbench.core.trainer_finetune\u001b[0m:\u001b[36mtrain\u001b[0m:\u001b[36m83\u001b[0m - \u001b[1mEpoch 000 | Train loss: -.---- | Train score: -.---- | Val loss: 0.1709 | Val score: 0.9411\u001b[0m\n",
      "\u001b[32m2024-09-03 10:00:02.452\u001b[0m | \u001b[1mINFO    \u001b[0m | \u001b[36mtabularbench.core.trainer_finetune\u001b[0m:\u001b[36mtrain\u001b[0m:\u001b[36m94\u001b[0m - \u001b[1mEpoch 001 | Train loss: 0.2245 | Train score: 0.9238 | Val loss: 0.1706 | Val score: 0.9424\u001b[0m\n",
      "\u001b[32m2024-09-03 10:00:42.244\u001b[0m | \u001b[1mINFO    \u001b[0m | \u001b[36mtabularbench.core.trainer_finetune\u001b[0m:\u001b[36mtrain\u001b[0m:\u001b[36m94\u001b[0m - \u001b[1mEpoch 002 | Train loss: 0.1528 | Train score: 0.9512 | Val loss: 0.1643 | Val score: 0.9438\u001b[0m\n",
      "\u001b[32m2024-09-03 10:01:21.822\u001b[0m | \u001b[1mINFO    \u001b[0m | \u001b[36mtabularbench.core.trainer_finetune\u001b[0m:\u001b[36mtrain\u001b[0m:\u001b[36m94\u001b[0m - \u001b[1mEpoch 003 | Train loss: 0.1690 | Train score: 0.9492 | Val loss: 0.1643 | Val score: 0.9438\u001b[0m\n",
      "\u001b[32m2024-09-03 10:02:06.360\u001b[0m | \u001b[1mINFO    \u001b[0m | \u001b[36mtabularbench.core.trainer_finetune\u001b[0m:\u001b[36mtrain\u001b[0m:\u001b[36m94\u001b[0m - \u001b[1mEpoch 004 | Train loss: 0.1661 | Train score: 0.9414 | Val loss: 0.1637 | Val score: 0.9411\u001b[0m\n",
      "\u001b[32m2024-09-03 10:02:47.426\u001b[0m | \u001b[1mINFO    \u001b[0m | \u001b[36mtabularbench.core.trainer_finetune\u001b[0m:\u001b[36mtrain\u001b[0m:\u001b[36m94\u001b[0m - \u001b[1mEpoch 005 | Train loss: 0.1889 | Train score: 0.9395 | Val loss: 0.1669 | Val score: 0.9424\u001b[0m\n",
      "\u001b[32m2024-09-03 10:03:28.140\u001b[0m | \u001b[1mINFO    \u001b[0m | \u001b[36mtabularbench.core.trainer_finetune\u001b[0m:\u001b[36mtrain\u001b[0m:\u001b[36m94\u001b[0m - \u001b[1mEpoch 006 | Train loss: 0.1631 | Train score: 0.9473 | Val loss: 0.1598 | Val score: 0.9451\u001b[0m\n",
      "\u001b[32m2024-09-03 10:04:10.233\u001b[0m | \u001b[1mINFO    \u001b[0m | \u001b[36mtabularbench.core.trainer_finetune\u001b[0m:\u001b[36mtrain\u001b[0m:\u001b[36m94\u001b[0m - \u001b[1mEpoch 007 | Train loss: 0.1893 | Train score: 0.9355 | Val loss: 0.1684 | Val score: 0.9405\u001b[0m\n",
      "\u001b[32m2024-09-03 10:04:52.011\u001b[0m | \u001b[1mINFO    \u001b[0m | \u001b[36mtabularbench.core.trainer_finetune\u001b[0m:\u001b[36mtrain\u001b[0m:\u001b[36m94\u001b[0m - \u001b[1mEpoch 008 | Train loss: 0.1766 | Train score: 0.9434 | Val loss: 0.1712 | Val score: 0.9418\u001b[0m\n",
      "\u001b[32m2024-09-03 10:05:30.839\u001b[0m | \u001b[1mINFO    \u001b[0m | \u001b[36mtabularbench.core.trainer_finetune\u001b[0m:\u001b[36mtrain\u001b[0m:\u001b[36m94\u001b[0m - \u001b[1mEpoch 009 | Train loss: 0.1562 | Train score: 0.9492 | Val loss: 0.1659 | Val score: 0.9470\u001b[0m\n",
      "\u001b[32m2024-09-03 10:06:12.342\u001b[0m | \u001b[1mINFO    \u001b[0m | \u001b[36mtabularbench.core.trainer_finetune\u001b[0m:\u001b[36mtrain\u001b[0m:\u001b[36m94\u001b[0m - \u001b[1mEpoch 010 | Train loss: 0.1521 | Train score: 0.9473 | Val loss: 0.1677 | Val score: 0.9405\u001b[0m\n",
      "\u001b[32m2024-09-03 10:07:38.128\u001b[0m | \u001b[1mINFO    \u001b[0m | \u001b[36mtabularbench.core.trainer_finetune\u001b[0m:\u001b[36mtrain\u001b[0m:\u001b[36m83\u001b[0m - \u001b[1mEpoch 000 | Train loss: -.---- | Train score: -.---- | Val loss: 0.1716 | Val score: 0.9411\u001b[0m\n",
      "\u001b[32m2024-09-03 10:08:18.811\u001b[0m | \u001b[1mINFO    \u001b[0m | \u001b[36mtabularbench.core.trainer_finetune\u001b[0m:\u001b[36mtrain\u001b[0m:\u001b[36m94\u001b[0m - \u001b[1mEpoch 001 | Train loss: 0.1793 | Train score: 0.9355 | Val loss: 0.1593 | Val score: 0.9470\u001b[0m\n",
      "\u001b[32m2024-09-03 10:08:58.511\u001b[0m | \u001b[1mINFO    \u001b[0m | \u001b[36mtabularbench.core.trainer_finetune\u001b[0m:\u001b[36mtrain\u001b[0m:\u001b[36m94\u001b[0m - \u001b[1mEpoch 002 | Train loss: 0.1309 | Train score: 0.9609 | Val loss: 0.1607 | Val score: 0.9477\u001b[0m\n",
      "\u001b[32m2024-09-03 10:09:37.621\u001b[0m | \u001b[1mINFO    \u001b[0m | \u001b[36mtabularbench.core.trainer_finetune\u001b[0m:\u001b[36mtrain\u001b[0m:\u001b[36m94\u001b[0m - \u001b[1mEpoch 003 | Train loss: 0.2109 | Train score: 0.9395 | Val loss: 0.1606 | Val score: 0.9490\u001b[0m\n",
      "\u001b[32m2024-09-03 10:10:16.771\u001b[0m | \u001b[1mINFO    \u001b[0m | \u001b[36mtabularbench.core.trainer_finetune\u001b[0m:\u001b[36mtrain\u001b[0m:\u001b[36m94\u001b[0m - \u001b[1mEpoch 004 | Train loss: 0.1826 | Train score: 0.9453 | Val loss: 0.1625 | Val score: 0.9503\u001b[0m\n",
      "\u001b[32m2024-09-03 10:10:57.349\u001b[0m | \u001b[1mINFO    \u001b[0m | \u001b[36mtabularbench.core.trainer_finetune\u001b[0m:\u001b[36mtrain\u001b[0m:\u001b[36m94\u001b[0m - \u001b[1mEpoch 005 | Train loss: 0.1723 | Train score: 0.9473 | Val loss: 0.1616 | Val score: 0.9483\u001b[0m\n",
      "\u001b[32m2024-09-03 10:11:37.162\u001b[0m | \u001b[1mINFO    \u001b[0m | \u001b[36mtabularbench.core.trainer_finetune\u001b[0m:\u001b[36mtrain\u001b[0m:\u001b[36m94\u001b[0m - \u001b[1mEpoch 006 | Train loss: 0.1532 | Train score: 0.9492 | Val loss: 0.1628 | Val score: 0.9470\u001b[0m\n",
      "\u001b[32m2024-09-03 10:12:15.280\u001b[0m | \u001b[1mINFO    \u001b[0m | \u001b[36mtabularbench.core.trainer_finetune\u001b[0m:\u001b[36mtrain\u001b[0m:\u001b[36m94\u001b[0m - \u001b[1mEpoch 007 | Train loss: 0.1786 | Train score: 0.9395 | Val loss: 0.1630 | Val score: 0.9464\u001b[0m\n",
      "\u001b[32m2024-09-03 10:12:53.106\u001b[0m | \u001b[1mINFO    \u001b[0m | \u001b[36mtabularbench.core.trainer_finetune\u001b[0m:\u001b[36mtrain\u001b[0m:\u001b[36m94\u001b[0m - \u001b[1mEpoch 008 | Train loss: 0.1469 | Train score: 0.9570 | Val loss: 0.1600 | Val score: 0.9477\u001b[0m\n",
      "\u001b[32m2024-09-03 10:13:33.136\u001b[0m | \u001b[1mINFO    \u001b[0m | \u001b[36mtabularbench.core.trainer_finetune\u001b[0m:\u001b[36mtrain\u001b[0m:\u001b[36m94\u001b[0m - \u001b[1mEpoch 009 | Train loss: 0.1555 | Train score: 0.9434 | Val loss: 0.1593 | Val score: 0.9457\u001b[0m\n",
      "\u001b[32m2024-09-03 10:14:12.416\u001b[0m | \u001b[1mINFO    \u001b[0m | \u001b[36mtabularbench.core.trainer_finetune\u001b[0m:\u001b[36mtrain\u001b[0m:\u001b[36m94\u001b[0m - \u001b[1mEpoch 010 | Train loss: 0.1528 | Train score: 0.9531 | Val loss: 0.1619 | Val score: 0.9464\u001b[0m\n",
      "\u001b[32m2024-09-03 10:15:30.471\u001b[0m | \u001b[1mINFO    \u001b[0m | \u001b[36mtabularbench.core.trainer_finetune\u001b[0m:\u001b[36mtrain\u001b[0m:\u001b[36m83\u001b[0m - \u001b[1mEpoch 000 | Train loss: -.---- | Train score: -.---- | Val loss: 0.1688 | Val score: 0.9418\u001b[0m\n",
      "\u001b[32m2024-09-03 10:16:09.262\u001b[0m | \u001b[1mINFO    \u001b[0m | \u001b[36mtabularbench.core.trainer_finetune\u001b[0m:\u001b[36mtrain\u001b[0m:\u001b[36m94\u001b[0m - \u001b[1mEpoch 001 | Train loss: 0.2217 | Train score: 0.9258 | Val loss: 0.1717 | Val score: 0.9411\u001b[0m\n",
      "\u001b[32m2024-09-03 10:16:48.159\u001b[0m | \u001b[1mINFO    \u001b[0m | \u001b[36mtabularbench.core.trainer_finetune\u001b[0m:\u001b[36mtrain\u001b[0m:\u001b[36m94\u001b[0m - \u001b[1mEpoch 002 | Train loss: 0.1703 | Train score: 0.9414 | Val loss: 0.1623 | Val score: 0.9438\u001b[0m\n",
      "\u001b[32m2024-09-03 10:17:27.265\u001b[0m | \u001b[1mINFO    \u001b[0m | \u001b[36mtabularbench.core.trainer_finetune\u001b[0m:\u001b[36mtrain\u001b[0m:\u001b[36m94\u001b[0m - \u001b[1mEpoch 003 | Train loss: 0.1463 | Train score: 0.9629 | Val loss: 0.1566 | Val score: 0.9451\u001b[0m\n",
      "\u001b[32m2024-09-03 10:18:05.123\u001b[0m | \u001b[1mINFO    \u001b[0m | \u001b[36mtabularbench.core.trainer_finetune\u001b[0m:\u001b[36mtrain\u001b[0m:\u001b[36m94\u001b[0m - \u001b[1mEpoch 004 | Train loss: 0.1376 | Train score: 0.9590 | Val loss: 0.1645 | Val score: 0.9431\u001b[0m\n",
      "\u001b[32m2024-09-03 10:18:42.931\u001b[0m | \u001b[1mINFO    \u001b[0m | \u001b[36mtabularbench.core.trainer_finetune\u001b[0m:\u001b[36mtrain\u001b[0m:\u001b[36m94\u001b[0m - \u001b[1mEpoch 005 | Train loss: 0.1779 | Train score: 0.9297 | Val loss: 0.1620 | Val score: 0.9431\u001b[0m\n",
      "\u001b[32m2024-09-03 10:19:20.425\u001b[0m | \u001b[1mINFO    \u001b[0m | \u001b[36mtabularbench.core.trainer_finetune\u001b[0m:\u001b[36mtrain\u001b[0m:\u001b[36m94\u001b[0m - \u001b[1mEpoch 006 | Train loss: 0.1718 | Train score: 0.9570 | Val loss: 0.1573 | Val score: 0.9431\u001b[0m\n",
      "\u001b[32m2024-09-03 10:19:59.214\u001b[0m | \u001b[1mINFO    \u001b[0m | \u001b[36mtabularbench.core.trainer_finetune\u001b[0m:\u001b[36mtrain\u001b[0m:\u001b[36m94\u001b[0m - \u001b[1mEpoch 007 | Train loss: 0.1793 | Train score: 0.9453 | Val loss: 0.1553 | Val score: 0.9438\u001b[0m\n",
      "\u001b[32m2024-09-03 10:20:37.878\u001b[0m | \u001b[1mINFO    \u001b[0m | \u001b[36mtabularbench.core.trainer_finetune\u001b[0m:\u001b[36mtrain\u001b[0m:\u001b[36m94\u001b[0m - \u001b[1mEpoch 008 | Train loss: 0.1759 | Train score: 0.9395 | Val loss: 0.1627 | Val score: 0.9405\u001b[0m\n",
      "\u001b[32m2024-09-03 10:21:16.143\u001b[0m | \u001b[1mINFO    \u001b[0m | \u001b[36mtabularbench.core.trainer_finetune\u001b[0m:\u001b[36mtrain\u001b[0m:\u001b[36m94\u001b[0m - \u001b[1mEpoch 009 | Train loss: 0.1529 | Train score: 0.9551 | Val loss: 0.1586 | Val score: 0.9411\u001b[0m\n",
      "\u001b[32m2024-09-03 10:21:54.499\u001b[0m | \u001b[1mINFO    \u001b[0m | \u001b[36mtabularbench.core.trainer_finetune\u001b[0m:\u001b[36mtrain\u001b[0m:\u001b[36m94\u001b[0m - \u001b[1mEpoch 010 | Train loss: 0.1524 | Train score: 0.9531 | Val loss: 0.1545 | Val score: 0.9470\u001b[0m\n"
     ]
    }
   ],
   "source": [
    "n_optim = 100\n",
    "ft_epochs = 10\n",
    "sampling = undersample\n",
    "metrics = metrics = [\"accuracy\", \"precision\", \"recall\", \"roc_auc\"]\n",
    "models = [\n",
    "    XGBClassifier(n_estimators=5, max_depth=5, learning_rate=1, objective='binary:logistic'),\n",
    "    XGBoostOptim(n_optim=n_optim),\n",
    "    LogisticRegression(max_iter=500), \n",
    "    TabPFNClassifier(device='cpu', N_ensemble_configurations=3),\n",
    "    TabForestPFNClassifier(\"saved_models/tabforest/mix600k/tabforestpfn.pt\", \"saved_models/tabforest/mix600k/config_run.yaml\")\n",
    "]\n",
    "results = pd.DataFrame(np.zeros((len(models), len(metrics))), \n",
    "                       index=[m.__class__.__name__ for m in models],\n",
    "                      columns=metrics)\n",
    "\n",
    "for ii, model in enumerate(models):\n",
    "    results.iloc[ii,:] = cross_validate_sample(model, data, labels, metrics)"
   ]
  },
  {
   "cell_type": "code",
   "execution_count": 4,
   "id": "5983e6a1-a7ce-4694-b775-e83498cd3be9",
   "metadata": {},
   "outputs": [
    {
     "name": "stdout",
     "output_type": "stream",
     "text": [
      "                        accuracy  precision    recall   roc_auc\n",
      "XGBClassifier           0.931769   0.405109  0.247091  0.611600\n",
      "XGBoostOptim            0.946514   0.715359  0.203088  0.598897\n",
      "LogisticRegression      0.937353   0.406318  0.061643  0.527895\n",
      "TabPFNClassifier        0.939709   0.794872  0.021398  0.510328\n",
      "TabForestPFNClassifier  0.943897   0.639189  0.185478  0.589303\n"
     ]
    }
   ],
   "source": [
    "print(results)"
   ]
  },
  {
   "cell_type": "code",
   "execution_count": 5,
   "id": "a85224c2-7299-482c-a13c-5d9af4270816",
   "metadata": {},
   "outputs": [],
   "source": [
    "data, labels = oversample(data, labels)"
   ]
  },
  {
   "cell_type": "code",
   "execution_count": null,
   "id": "addcaa01-6c4b-47dd-bc77-602a694852fe",
   "metadata": {},
   "outputs": [],
   "source": []
  },
  {
   "cell_type": "code",
   "execution_count": null,
   "id": "41838718-4603-4bb6-a446-090d8808c220",
   "metadata": {},
   "outputs": [],
   "source": []
  }
 ],
 "metadata": {
  "kernelspec": {
   "display_name": "Python 3 (ipykernel)",
   "language": "python",
   "name": "python3"
  },
  "language_info": {
   "codemirror_mode": {
    "name": "ipython",
    "version": 3
   },
   "file_extension": ".py",
   "mimetype": "text/x-python",
   "name": "python",
   "nbconvert_exporter": "python",
   "pygments_lexer": "ipython3",
   "version": "3.11.0"
  }
 },
 "nbformat": 4,
 "nbformat_minor": 5
}
