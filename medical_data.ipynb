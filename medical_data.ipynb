{
 "cells": [
  {
   "cell_type": "code",
   "execution_count": 1,
   "id": "84fa72bf-ddc8-4ff5-88d1-6c327f226f22",
   "metadata": {},
   "outputs": [],
   "source": [
    "from xgboost import XGBClassifier\n",
    "import warnings\n",
    "from tabpfn import TabPFNClassifier\n",
    "import numpy as np\n",
    "import pandas as pd\n",
    "import os\n",
    "from evaluate import scores\n",
    "import sklearn\n",
    "from sklearn.decomposition import PCA\n",
    "from sklearn.metrics import accuracy_score, precision_score, roc_auc_score\n",
    "from sklearn.linear_model import LogisticRegression\n",
    "from sklearn.model_selection import train_test_split, cross_val_score, cross_validate\n",
    "from data_prep_utils import *\n",
    "import matplotlib.pyplot as plt\n",
    "import torch\n",
    "import openml"
   ]
  },
  {
   "cell_type": "code",
   "execution_count": 6,
   "id": "ee3539c5-ada2-42ca-ab78-f7695bdd04df",
   "metadata": {},
   "outputs": [
    {
     "name": "stdout",
     "output_type": "stream",
     "text": [
      "15 15\n"
     ]
    }
   ],
   "source": [
    "openml_medical_id = [13, 25, 49, 51, 53, 55, 336, 337, 446, 778, 798, 949, 1488, 4329, 41430]\n",
    "openml_non_medical_id = [40, 43, 56, 59,333,334,335, 450, 451, 756, 872, 925,  1447, 40705, 40706]\n",
    "print(len(openml_medical_id), len(openml_non_medical_id))"
   ]
  },
  {
   "cell_type": "code",
   "execution_count": 7,
   "id": "8f5ff069-3527-4b0a-8c96-a06edda68ea3",
   "metadata": {},
   "outputs": [],
   "source": [
    "# returns average proportion of zeros per feature\n",
    "def get_sparsity(X, categorical_indicator):\n",
    "    # remove categorical features\n",
    "    X = X[:,np.logical_not(categorical_indicator)]\n",
    "    if X.shape[1]==0:\n",
    "        print(\"Only categorical features in this dataset!\")\n",
    "        return False, 0\n",
    "    else:\n",
    "        counts = np.count_nonzero(X, axis=0)\n",
    "        return True, np.mean((X.shape[0]-counts)/X.shape[0])"
   ]
  },
  {
   "cell_type": "code",
   "execution_count": 19,
   "id": "4677d0b1-aced-4a4b-b2ca-ebe3b2c1a3a7",
   "metadata": {},
   "outputs": [
    {
     "name": "stdout",
     "output_type": "stream",
     "text": [
      "Only categorical features in this dataset!\n",
      "Only categorical features in this dataset!\n"
     ]
    }
   ],
   "source": [
    "sparsity_med = []\n",
    "for data_id in openml_medical_id:    \n",
    "    dataset = openml.datasets.get_dataset(data_id, download_data=True, download_qualities=True, download_features_meta_data=True)\n",
    "    X, y, categorical_indicator, attribute_names = dataset.get_data(dataset_format=\"dataframe\", target=dataset.default_target_attribute)\n",
    "    X, y = df_to_numpy(X), df_to_numpy(y)\n",
    "    cat_ind, sp = get_sparsity(X,categorical_indicator)\n",
    "    if cat_ind:\n",
    "        sparsity_med.append(sp)"
   ]
  },
  {
   "cell_type": "code",
   "execution_count": 20,
   "id": "bd09e5fd-09e6-4d60-a895-07cbfab6d98f",
   "metadata": {},
   "outputs": [
    {
     "name": "stdout",
     "output_type": "stream",
     "text": [
      "Only categorical features in this dataset!\n",
      "Only categorical features in this dataset!\n",
      "Only categorical features in this dataset!\n",
      "Only categorical features in this dataset!\n",
      "Only categorical features in this dataset!\n"
     ]
    }
   ],
   "source": [
    "sparsity_non_med = []\n",
    "for data_id in openml_non_medical_id:    \n",
    "    dataset = openml.datasets.get_dataset(data_id, download_data=True, download_qualities=True, download_features_meta_data=True)\n",
    "    X, y, categorical_indicator, attribute_names = dataset.get_data(dataset_format=\"dataframe\", target=dataset.default_target_attribute)\n",
    "    X, y = df_to_numpy(X), df_to_numpy(y)\n",
    "    cat_ind, sp = get_sparsity(X,categorical_indicator)\n",
    "    if cat_ind:\n",
    "        sparsity_non_med.append(sp)"
   ]
  },
  {
   "cell_type": "code",
   "execution_count": 28,
   "id": "ecdd572e-ce24-4675-af34-54ad0626c975",
   "metadata": {},
   "outputs": [
    {
     "name": "stdout",
     "output_type": "stream",
     "text": [
      "0.13372755310175555\n",
      "0.055418077624381355\n",
      "0.045497057153039776\n",
      "0.05481761006289308\n"
     ]
    },
    {
     "data": {
      "text/plain": [
       "(array([10., 20., 10.,  0., 10.,  0., 30., 10., 10.,  0.,  0.,  0.,  0.,\n",
       "         0.,  0.,  0.,  0.,  0.,  0.,  0.,  0.,  0.,  0.,  0.,  0.,  0.,\n",
       "         0.,  0.,  0.,  0.,  0.,  0.,  0.,  0.,  0.,  0.,  0.,  0.,  0.,\n",
       "         0.,  0.,  0.,  0.,  0.,  0.,  0.,  0.,  0.,  0.,  0.,  0.,  0.,\n",
       "         0.,  0.,  0.,  0.,  0.,  0.,  0.,  0.,  0.,  0.,  0.,  0.,  0.,\n",
       "         0.,  0.,  0.,  0.,  0.,  0.,  0.,  0.,  0.,  0.,  0.,  0.,  0.,\n",
       "         0.,  0.,  0.,  0.,  0.,  0.,  0.,  0.,  0.,  0.,  0.,  0.,  0.,\n",
       "         0.,  0.,  0.,  0.,  0.,  0.,  0.,  0.]),\n",
       " array([0.  , 0.01, 0.02, 0.03, 0.04, 0.05, 0.06, 0.07, 0.08, 0.09, 0.1 ,\n",
       "        0.11, 0.12, 0.13, 0.14, 0.15, 0.16, 0.17, 0.18, 0.19, 0.2 , 0.21,\n",
       "        0.22, 0.23, 0.24, 0.25, 0.26, 0.27, 0.28, 0.29, 0.3 , 0.31, 0.32,\n",
       "        0.33, 0.34, 0.35, 0.36, 0.37, 0.38, 0.39, 0.4 , 0.41, 0.42, 0.43,\n",
       "        0.44, 0.45, 0.46, 0.47, 0.48, 0.49, 0.5 , 0.51, 0.52, 0.53, 0.54,\n",
       "        0.55, 0.56, 0.57, 0.58, 0.59, 0.6 , 0.61, 0.62, 0.63, 0.64, 0.65,\n",
       "        0.66, 0.67, 0.68, 0.69, 0.7 , 0.71, 0.72, 0.73, 0.74, 0.75, 0.76,\n",
       "        0.77, 0.78, 0.79, 0.8 , 0.81, 0.82, 0.83, 0.84, 0.85, 0.86, 0.87,\n",
       "        0.88, 0.89, 0.9 , 0.91, 0.92, 0.93, 0.94, 0.95, 0.96, 0.97, 0.98,\n",
       "        0.99]),\n",
       " <BarContainer object of 99 artists>)"
      ]
     },
     "execution_count": 28,
     "metadata": {},
     "output_type": "execute_result"
    },
    {
     "data": {
      "image/png": "[encoded data removed]",
      "text/plain": [
       "<Figure size 640x480 with 1 Axes>"
      ]
     },
     "metadata": {},
     "output_type": "display_data"
    }
   ],
   "source": [
    "print(np.mean(np.asarray(sparsity_med)))\n",
    "print(np.median(np.asarray(sparsity_med)))\n",
    "print(np.mean(np.asarray(sparsity_non_med)))\n",
    "print(np.median(np.asarray(sparsity_non_med)))\n",
    "bins = np.arange(0,1,0.01)\n",
    "plt.hist(sparsity_med, bins, density=True, alpha=0.5)\n",
    "plt.hist(sparsity_non_med, bins, density=True, alpha=0.5)"
   ]
  },
  {
   "cell_type": "code",
   "execution_count": null,
   "id": "1a473dae-94a3-4385-9250-e898c4279da7",
   "metadata": {},
   "outputs": [],
   "source": []
  }
 ],
 "metadata": {
  "kernelspec": {
   "display_name": "Python 3 (ipykernel)",
   "language": "python",
   "name": "python3"
  },
  "language_info": {
   "codemirror_mode": {
    "name": "ipython",
    "version": 3
   },
   "file_extension": ".py",
   "mimetype": "text/x-python",
   "name": "python",
   "nbconvert_exporter": "python",
   "pygments_lexer": "ipython3",
   "version": "3.9.18"
  }
 },
 "nbformat": 4,
 "nbformat_minor": 5
}
