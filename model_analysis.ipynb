{
 "cells": [
  {
   "cell_type": "code",
   "execution_count": 1,
   "id": "598084ed-d63d-40ed-83ab-521775ecfde3",
   "metadata": {},
   "outputs": [],
   "source": [
    "import random\n",
    "import time\n",
    "import warnings\n",
    "from datetime import datetime\n",
    "\n",
    "import torch\n",
    "import os\n",
    "\n",
    "import numpy as np\n",
    "import warnings\n",
    "np.warnings = warnings\n",
    "import matplotlib.pyplot as plt\n",
    "from tabpfn_new.scripts.transformer_prediction_interface import transformer_predict, get_params_from_config, load_model_workflow\n",
    "from tabpfn_new.scripts.differentiable_pfn_evaluation import eval_model_range\n",
    "from tabpfn_new.scripts.model_builder import get_model, get_default_spec, save_model, load_model\n",
    "\n",
    "from tabpfn_new.scripts.model_configs import *\n",
    "\n",
    "#from datasets import load_openml_list, open_cc_dids, open_cc_valid_dids\n",
    "from tabpfn_new.priors.utils import plot_prior, plot_features\n",
    "from tabpfn_new.priors.utils import uniform_int_sampler_f\n",
    "\n",
    "from tabpfn_new.scripts.tabular_metrics import calculate_score_per_method, calculate_score\n",
    "from tabpfn_new.scripts.tabular_evaluation import evaluate\n",
    "\n",
    "from tabpfn_new.priors.differentiable_prior import DifferentiableHyperparameterList, draw_random_style, merge_style_with_info\n",
    "from tabpfn_new.scripts import tabular_metrics\n",
    "from tabpfn.notebook_utils import *\n",
    "from tabpfn_new.train import Losses"
   ]
  },
  {
   "cell_type": "code",
   "execution_count": 5,
   "id": "db293da5-9cdc-4564-bf10-0f633c5f73fc",
   "metadata": {},
   "outputs": [
    {
     "name": "stdout",
     "output_type": "stream",
     "text": [
      "Using style prior: True\n",
      "Using cpu:0 device\n",
      "Using a Transformer with 6.48 M parameters\n"
     ]
    }
   ],
   "source": [
    "dir_path = os.path.abspath(os.getcwd())\n",
    "run_name = \"small_net_mlp_var_imbalance_05weight\"\n",
    "path = dir_path + f\"/logs/trainrun_{run_name}\"\n",
    "filename = \"model\"\n",
    "model, config = load_model(path, filename, device=\"cpu\", eval_positions=None, verbose=0)"
   ]
  },
  {
   "cell_type": "code",
   "execution_count": 6,
   "id": "1bd1ef01-40ed-49ed-8f4f-dad462d18aad",
   "metadata": {},
   "outputs": [
    {
     "name": "stdout",
     "output_type": "stream",
     "text": [
      "Using style prior: True\n",
      "Using cpu:0 device\n",
      "Using a Transformer with 6.48 M parameters\n"
     ]
    }
   ],
   "source": [
    "config[\"epoch_frac\"] = 0.75\n",
    "config[\"multiclass_type\"] = \"variable_balance\"\n",
    "dl = get_model(config, device=\"cpu\", should_train=False, verbose=0)[3]"
   ]
  },
  {
   "cell_type": "code",
   "execution_count": null,
   "id": "071386a0-af98-4984-92f4-2f1ca95186bf",
   "metadata": {},
   "outputs": [],
   "source": [
    "import sklearn\n",
    "device = \"cpu\"\n",
    "possese = []\n",
    "accs = []\n",
    "steps = 1000\n",
    "lr = 0.001\n",
    "weight_decay = 1\n",
    "optimizer = torch.optim.AdamW(model[2].parameters(), lr=lr, weight_decay=weight_decay)\n",
    "criterion = torch.nn.CrossEntropyLoss()\n",
    "for i in range(steps):\n",
    "    #print(f\"\\n\\n\\nRun #{i}\")\n",
    "    src, targets, pos = next(iter(dl))\n",
    "    possese.append(pos)\n",
    "    targets = targets[pos:]\n",
    "    output = model[2](src, single_eval_pos=pos)\n",
    "    loss = criterion(output.reshape(-1, 2), targets.to(device).long().flatten())\n",
    "    loss.backward()\n",
    "    optimizer.step()\n",
    "    optimizer.zero_grad()\n",
    "    preds = torch.argmax(output, dim=-1).float()\n",
    "    accuracy =  torch.mean((preds==targets)[targets!=-100].float())\n",
    "    accs.append(accuracy)\n",
    "m,b = np.polyfit(possese, accs, 1)\n",
    "line = np.arange(0,1001,1)*m+b\n",
    "plt.plot(line)\n",
    "plt.scatter(possese, accs)\n",
    "\n",
    "poly_features = sklearn.preprocessing.PolynomialFeatures(degree=3) # decide the maximal degree of the polynomial feature\n",
    "X_ploy = poly_features.fit_transform(np.array(possese).reshape(-1,1))\n",
    "lin_reg = sklearn.linear_model.LinearRegression()\n",
    "lin_reg.fit(X_ploy,accs)\n",
    "X_new = np.sort(possese,axis = 0) # in order to plot the line of the model, we need to sort the the value of x-axis\n",
    "X_new_ploy = poly_features.fit_transform(X_new.reshape(-1,1)) # compute the polynomial features \n",
    "y_predict = lin_reg.predict(X_new_ploy)\n",
    "plt.plot(X_new, y_predict)"
   ]
  },
  {
   "cell_type": "code",
   "execution_count": 7,
   "id": "e8da0d2f-61a4-43b7-b1d1-5349c4dfc4f7",
   "metadata": {},
   "outputs": [],
   "source": [
    "def plot_class_dist_bars(bin_avgs):\n",
    "    step = 1/len(bin_avgs)\n",
    "    bins = torch.arange(step,1+step,step)\n",
    "    plt.bar(bins-step, bin_avgs, width=step, align=\"edge\", color=\"red\")\n",
    "    plt.bar(bins-step, bins-step/2, width=step, align=\"edge\", color=\"blue\", alpha=0.5)\n",
    "    plt.xlabel = \"test\"\n",
    "    plt.show()"
   ]
  },
  {
   "cell_type": "code",
   "execution_count": 8,
   "id": "4f929577-7148-443c-9636-bd13a50a18c5",
   "metadata": {},
   "outputs": [],
   "source": [
    "def get_binned_class_avg(model, steps=0.025):\n",
    "    bins = torch.arange(step,1+step,step)\n",
    "    bin_preds = [[]for _ in bins]\n",
    "    for i in range(10000):\n",
    "        src, targets, pos = next(iter(dl))\n",
    "        targets = targets[pos:]\n",
    "        output = model[2](src, single_eval_pos=pos)\n",
    "        preds = torch.argmax(output, dim=-1).float()\n",
    "        avg_tgt = torch.mean(targets)\n",
    "        avg_pred = torch.mean(preds)\n",
    "        bin_num = torch.min(torch.nonzero(bins>=avg_tgt)).item()\n",
    "        bin_preds[bin_num].append(avg_pred)\n",
    "    bin_avgs = [torch.nanmean(torch.tensor(b)) for b in bin_preds]"
   ]
  },
  {
   "cell_type": "code",
   "execution_count": 9,
   "id": "bcfac462-df25-4ff0-9fe7-e28db3ff9a5e",
   "metadata": {},
   "outputs": [
    {
     "name": "stdout",
     "output_type": "stream",
     "text": [
      "tensor([0.0250, 0.0500, 0.0750, 0.1000, 0.1250, 0.1500, 0.1750, 0.2000, 0.2250,\n",
      "        0.2500, 0.2750, 0.3000, 0.3250, 0.3500, 0.3750, 0.4000, 0.4250, 0.4500,\n",
      "        0.4750, 0.5000, 0.5250, 0.5500, 0.5750, 0.6000, 0.6250, 0.6500, 0.6750,\n",
      "        0.7000, 0.7250, 0.7500, 0.7750, 0.8000, 0.8250, 0.8500, 0.8750, 0.9000,\n",
      "        0.9250, 0.9500, 0.9750, 1.0000])\n",
      "[tensor(0.0084), tensor(0.0345), tensor(0.0654), tensor(0.0923), tensor(0.1271), tensor(0.1500), tensor(0.1783), tensor(0.2079), tensor(0.2303), tensor(0.2545), tensor(0.2795), tensor(0.3018), tensor(0.3259), tensor(0.3477), tensor(0.3740), tensor(0.3930), tensor(0.4175), tensor(0.4396), tensor(0.4630), tensor(0.4883), tensor(0.5128), tensor(0.5330), tensor(0.5556), tensor(0.5772), tensor(0.6035), tensor(0.6269), tensor(0.6462), tensor(0.6713), tensor(0.6944), tensor(0.7186), tensor(0.7421), tensor(0.7663), tensor(0.7931), tensor(0.8208), tensor(0.8491), tensor(0.8780), tensor(0.9030), tensor(0.9372), tensor(0.9659), tensor(0.9940)]\n"
     ]
    },
    {
     "data": {
      "text/plain": [
       "<BarContainer object of 40 artists>"
      ]
     },
     "execution_count": 9,
     "metadata": {},
     "output_type": "execute_result"
    },
    {
     "data": {
      "image/png": "[encoded data removed]",
      "text/plain": [
       "<Figure size 640x480 with 1 Axes>"
      ]
     },
     "metadata": {},
     "output_type": "display_data"
    }
   ],
   "source": [
    "step = 0.025\n",
    "bins = torch.arange(step,1+step,step)\n",
    "print(bins)\n",
    "bin_preds = [[]for _ in bins]\n",
    "for i in range(10000):\n",
    "    #print(f\"\\n\\n\\nRun #{i}\")\n",
    "    src, targets, pos = next(iter(dl))\n",
    "    #print(targets.shape)\n",
    "    #pos = 800\n",
    "    #print(src[1].sh=step\n",
    "    targets = targets[pos:]\n",
    "    output = model[2](src, single_eval_pos=pos)\n",
    "    preds = torch.argmax(output, dim=-1).float()\n",
    "    avg_tgt = torch.mean(targets)\n",
    "    avg_pred = torch.mean(preds)\n",
    "    #print(avg_tgt)\n",
    "    bin_num = torch.min(torch.nonzero(bins>=avg_tgt)).item()\n",
    "    bin_preds[bin_num].append(avg_pred)\n",
    "    #accuracy = torch.mean((preds==targets)[targets!=-100].float())\n",
    "bin_avgs = [torch.nanmean(torch.tensor(b)) for b in bin_preds]\n",
    "print(bin_avgs)\n",
    "plt.bar(bins-step, bin_avgs, width=step, align=\"edge\", color=\"red\")\n",
    "plt.bar(bins-step, bins-step/2, width=step, align=\"edge\", color=\"blue\", alpha=0.5)"
   ]
  },
  {
   "cell_type": "code",
   "execution_count": null,
   "id": "5bfea59f-c357-40a9-8b6f-e52eeba37e33",
   "metadata": {},
   "outputs": [],
   "source": [
    "plot_class_dist_bars(bin_avgs)"
   ]
  },
  {
   "cell_type": "code",
   "execution_count": null,
   "id": "47a7f9fa-fcc9-4084-8dbb-03337694264e",
   "metadata": {},
   "outputs": [],
   "source": [
    "import os\n",
    "def load_train_results(name):\n",
    "    dir_path = os.path.abspath(os.getcwd())\n",
    "    path = dir_path + f\"/logs/trainrun_{name}\"\n",
    "    try:\n",
    "        losses = torch.load(path+\"/losses\", weights_only=False)\n",
    "    except:\n",
    "        losses = np.array([0])\n",
    "    mb_results = torch.load(path+\"/mb_results\", weights_only=False)\n",
    "    try:\n",
    "        accuracies = torch.load(path+\"/accuracies\", weights_only=False)\n",
    "    except:\n",
    "        accuracies = np.array([0])\n",
    "    try:\n",
    "        class_preds = torch.load(path+\"/class_preds\", weights_only=False)\n",
    "    except:\n",
    "        class_preds = np.array([0])\n",
    "    return losses, mb_results, accuracies, class_preds"
   ]
  },
  {
   "cell_type": "code",
   "execution_count": null,
   "id": "05133c36-845c-4527-a887-875f848c85a6",
   "metadata": {},
   "outputs": [],
   "source": [
    "def moving_average(arr, window_size=5):\n",
    "    if window_size <= 0:\n",
    "        raise ValueError(\"Window size must be positive\")\n",
    "    if len(arr) < window_size:\n",
    "        raise ValueError(\"Array length must be greater than or equal to the window size\")\n",
    "    \n",
    "    moving_averages = []\n",
    "    for i in range(len(arr) - window_size + 1):\n",
    "        window = arr[i:i + window_size]\n",
    "        window_avg = sum(window) / window_size\n",
    "        moving_averages.append(window_avg)\n",
    "    \n",
    "    return moving_averages"
   ]
  },
  {
   "cell_type": "code",
   "execution_count": null,
   "id": "7f63f71c-eeb2-46e0-8da8-db12fa96f02e",
   "metadata": {},
   "outputs": [],
   "source": [
    "def plot_metrics(losses, results, accuracies, class_pred, metrics, name):\n",
    "    fig, ax = plt.subplots(nrows=4, ncols=1, sharex=True, figsize=(5,10))\n",
    "    for ii, m in enumerate(metrics):\n",
    "        ax[0].plot(moving_average(results[:,ii], window_size=5), label=m)\n",
    "    ax[0].grid()\n",
    "    ax[0].set_ylabel(\"score\")\n",
    "    ax[0].set_title(name)\n",
    "    ax[0].legend(loc=\"upper left\")\n",
    "    ax[1].grid()\n",
    "    ax[1].plot(moving_average(losses))\n",
    "    ax[1].set_ylabel(\"loss\")\n",
    "    ax[2].grid()\n",
    "    ax[2].plot(moving_average(accuracies))\n",
    "    ax[2].set_ylabel(\"train accuracy\")\n",
    "    ax[3].grid()\n",
    "    ax[3].plot(class_preds)\n",
    "    plt.xlabel(\"epoch\")\n",
    "    ax[3].set_ylabel(\"class balance measure in prediction\")\n",
    "    plt.show()"
   ]
  },
  {
   "cell_type": "code",
   "execution_count": null,
   "id": "bf970b0a-9315-48b6-bbbb-8aba4a2b00cf",
   "metadata": {},
   "outputs": [],
   "source": [
    "name = \"small_net_mlp_variable_balance_weight\"#\n",
    "name = \"small_net_mlp_balance_minevalup\"#config[\"run_name\"]\n",
    "#name = \"small_net_mlp_varbalance_weight_batchunisplit\"\n",
    "name = \"small_net_mlp_varbalance_sqrt_weight_batchunisplit\"\n",
    "name = \"medium_net_mlp_balance_bsplit_baseline\"\n",
    "name = \"medium_net_mlp_balance_bsplit_baseline_longer\"\n",
    "metrics = [\"accuracy\", \"precision\", \"recall\", \"roc_auc\"]\n",
    "losses, mb_results, accuracies, class_preds = load_train_results(name)\n",
    "plot_metrics(losses, mb_results, accuracies, class_preds, metrics, name)"
   ]
  },
  {
   "cell_type": "code",
   "execution_count": null,
   "id": "f5fa1563-8e86-4f08-a2b4-be42c93e9146",
   "metadata": {},
   "outputs": [],
   "source": []
  },
  {
   "cell_type": "code",
   "execution_count": null,
   "id": "0f3a88da-be47-4265-9093-c7990b570dfd",
   "metadata": {},
   "outputs": [],
   "source": []
  }
 ],
 "metadata": {
  "kernelspec": {
   "display_name": "Python 3 (ipykernel)",
   "language": "python",
   "name": "python3"
  },
  "language_info": {
   "codemirror_mode": {
    "name": "ipython",
    "version": 3
   },
   "file_extension": ".py",
   "mimetype": "text/x-python",
   "name": "python",
   "nbconvert_exporter": "python",
   "pygments_lexer": "ipython3",
   "version": "3.11.10"
  }
 },
 "nbformat": 4,
 "nbformat_minor": 5
}
