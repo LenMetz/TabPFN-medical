{
 "cells": [
  {
   "cell_type": "code",
   "execution_count": 1,
   "id": "598084ed-d63d-40ed-83ab-521775ecfde3",
   "metadata": {},
   "outputs": [],
   "source": [
    "import random\n",
    "import time\n",
    "import warnings\n",
    "from datetime import datetime\n",
    "\n",
    "import torch\n",
    "import os\n",
    "\n",
    "import numpy as np\n",
    "import warnings\n",
    "np.warnings = warnings\n",
    "import matplotlib.pyplot as plt\n",
    "from tabpfn_new.scripts.differentiable_pfn_evaluation import eval_model_range\n",
    "from tabpfn_new.scripts.model_builder import get_model, get_default_spec, save_model, load_model\n",
    "from tabpfn_new.scripts.transformer_prediction_interface import transformer_predict, get_params_from_config, load_model_workflow\n",
    "\n",
    "from tabpfn_new.scripts.model_configs import *\n",
    "\n",
    "#from datasets import load_openml_list, open_cc_dids, open_cc_valid_dids\n",
    "from tabpfn_new.priors.utils import plot_prior, plot_features\n",
    "from tabpfn_new.priors.utils import uniform_int_sampler_f\n",
    "\n",
    "from tabpfn_new.scripts.tabular_metrics import calculate_score_per_method, calculate_score\n",
    "from tabpfn_new.scripts.tabular_evaluation import evaluate\n",
    "\n",
    "from tabpfn_new.priors.differentiable_prior import DifferentiableHyperparameterList, draw_random_style, merge_style_with_info\n",
    "from tabpfn_new.scripts import tabular_metrics\n",
    "from tabpfn.notebook_utils import *"
   ]
  },
  {
   "cell_type": "code",
   "execution_count": 2,
   "id": "db293da5-9cdc-4564-bf10-0f633c5f73fc",
   "metadata": {},
   "outputs": [
    {
     "name": "stdout",
     "output_type": "stream",
     "text": [
      "!! Warning: GPyTorch must be installed !!\n",
      "Using style prior: True\n",
      "Using cpu:0 device\n",
      "Using a Transformer with 6.48 M parameters\n"
     ]
    }
   ],
   "source": [
    "dir_path = os.path.abspath(os.getcwd())\n",
    "run_name = \"small_net_mlp_variable_balance\"\n",
    "path = dir_path + f\"/logs/trainrun_{run_name}\"\n",
    "filename = \"model\"\n",
    "model, config = load_model(path, filename, device=\"cpu\", eval_positions=None, verbose=0)"
   ]
  },
  {
   "cell_type": "code",
   "execution_count": 3,
   "id": "1bd1ef01-40ed-49ed-8f4f-dad462d18aad",
   "metadata": {},
   "outputs": [
    {
     "name": "stdout",
     "output_type": "stream",
     "text": [
      "Using style prior: True\n",
      "Using cpu:0 device\n",
      "Using a Transformer with 6.48 M parameters\n"
     ]
    }
   ],
   "source": [
    "config[\"epoch_frac\"] = 0.5\n",
    "dl = get_model(config, device=\"cpu\", should_train=False, verbose=0)[3]"
   ]
  },
  {
   "cell_type": "code",
   "execution_count": 4,
   "id": "d345c7f4-590a-4f06-bd65-e3446f617aff",
   "metadata": {},
   "outputs": [
    {
     "name": "stdout",
     "output_type": "stream",
     "text": [
      "lr 0.0001\n",
      "dropout 0.0\n",
      "emsize 256\n",
      "batch_size 1\n",
      "nlayers 12\n",
      "num_features 100\n",
      "nhead 4\n",
      "nhid_factor 2\n",
      "bptt 1152\n",
      "eval_positions [1094]\n",
      "seq_len_used 50\n",
      "sampling mnd\n",
      "epochs 100\n",
      "num_steps 400\n",
      "verbose False\n",
      "mix_activations True\n",
      "pre_sample_causes True\n",
      "multiclass_type variable_balance\n",
      "nan_prob_unknown_reason_reason_prior 0.5\n",
      "categorical_feature_p 0\n",
      "nan_prob_no_reason 0.0\n",
      "nan_prob_unknown_reason 0.0\n",
      "nan_prob_a_reason 0.0\n",
      "max_num_classes 2\n",
      "num_classes 2\n",
      "noise_type Gaussian\n",
      "balanced True\n",
      "normalize_to_ranking False\n",
      "set_value_to_nan 0.0\n",
      "normalize_by_used_features True\n",
      "num_features_used <function load_model.<locals>.<lambda> at 0x000002662AB4E840>\n",
      "num_categorical_features_sampler_a -1.0\n",
      "differentiable_hyperparameters {'prior_bag_exp_weights_1': {'distribution': 'uniform', 'min': 2.0, 'max': 10.0}, 'num_layers': {'distribution': 'meta_gamma', 'max_alpha': 2, 'max_scale': 3, 'round': True, 'lower_bound': 2}, 'prior_mlp_hidden_dim': {'distribution': 'meta_gamma', 'max_alpha': 3, 'max_scale': 100, 'round': True, 'lower_bound': 25}, 'prior_mlp_dropout_prob': {'distribution': 'meta_beta', 'scale': 0.6, 'min': 0.1, 'max': 5.0}, 'noise_std': {'distribution': 'meta_trunc_norm_log_scaled', 'max_mean': 0.3, 'min_mean': 0.0001, 'round': False, 'lower_bound': 0.0}, 'init_std': {'distribution': 'meta_trunc_norm_log_scaled', 'max_mean': 10.0, 'min_mean': 0.01, 'round': False, 'lower_bound': 0.0}, 'num_causes': {'distribution': 'meta_gamma', 'max_alpha': 3, 'max_scale': 7, 'round': True, 'lower_bound': 2}, 'pre_sample_weights': {'distribution': 'meta_choice', 'choice_values': [True, False]}, 'y_is_effect': {'distribution': 'meta_choice', 'choice_values': [True, False]}, 'prior_mlp_activations': {'distribution': 'meta_choice_mixed', 'choice_values': [<class 'torch.nn.modules.activation.Tanh'>, <class 'torch.nn.modules.activation.Tanh'>, <class 'torch.nn.modules.activation.Tanh'>], 'choice_values_used': [\"<class 'torch.nn.modules.activation.Tanh'>\", \"<class 'torch.nn.modules.linear.Identity'>\", \"<class 'torch.nn.modules.activation.ReLU'>\"]}, 'sort_features': {'distribution': 'meta_choice', 'choice_values': [True, False]}, 'in_clique': {'distribution': 'meta_choice', 'choice_values': [True, False]}, 'outputscale': {'distribution': 'meta_trunc_norm_log_scaled', 'max_mean': 10.0, 'min_mean': 1e-05, 'round': False, 'lower_bound': 0}, 'lengthscale': {'distribution': 'meta_trunc_norm_log_scaled', 'max_mean': 10.0, 'min_mean': 1e-05, 'round': False, 'lower_bound': 0}, 'noise': {'distribution': 'meta_choice', 'choice_values': [1e-05, 0.0001, 0.01]}}\n",
      "prior_type mlp\n",
      "recompute_attn True\n",
      "differentiable True\n",
      "flexible True\n",
      "bptt_extra_samples None\n",
      "output_multiclass_ordered_p 0.0\n",
      "multiclass_loss_type nono\n",
      "new_mlp_per_example True\n",
      "prior_mlp_scale_weights_sqrt True\n",
      "batch_size_per_gp_sample None\n",
      "differentiable_hps_as_style False\n",
      "max_eval_pos 1000\n",
      "random_feature_rotation True\n",
      "rotate_normalized_labels True\n",
      "n_layers 8\n",
      "canonical_y_encoder False\n",
      "total_available_time_in_s None\n",
      "train_mixed_precision False\n",
      "efficient_eval_masking True\n",
      "is_causal False\n",
      "num_causes 5\n",
      "prior_mlp_hidden_dim 50\n",
      "num_layers 4\n",
      "noise_std 0.05\n",
      "init_std 0.05\n",
      "y_is_effect True\n",
      "pre_sample_weights True\n",
      "prior_mlp_dropout_prob 0\n",
      "prior_mlp_activations <class 'torch.nn.modules.activation.ReLU'>\n",
      "block_wise_dropout False\n",
      "sort_features False\n",
      "in_clique False\n",
      "max_features 100\n",
      "min_features 100\n",
      "n_samples 1000\n",
      "base_size 1000\n",
      "n_estimators 1\n",
      "categorical_x False\n",
      "comp False\n",
      "no_encoder False\n",
      "normalize_with_sqrt False\n",
      "normalize_ignore_label_too False\n",
      "normalize True\n",
      "min_depth 5\n",
      "max_depth 10\n",
      "data_sample_func mnd\n",
      "mlp_noise False\n",
      "align_majority False\n",
      "limit_imbalance False\n",
      "microbiome_test True\n",
      "weight_classes False\n",
      "aggregate_k_gradients 2\n",
      "run_name small_net_mlp_balance\n",
      "categorical_features_sampler <function load_model.<locals>.<lambda> at 0x000002662AB4E200>\n",
      "num_features_used_in_training 100\n",
      "num_classes_in_training 2\n",
      "batch_size_in_training 32\n",
      "bptt_in_training 1152\n",
      "bptt_extra_samples_in_training None\n",
      "epoch_frac 0.5\n",
      "prior_bag_exp_weights_1 {'distribution': 'uniform', 'min': 2.0, 'max': 10.0}\n",
      "num_layers {'distribution': 'meta_gamma', 'max_alpha': 2, 'max_scale': 3, 'round': True, 'lower_bound': 2}\n",
      "prior_mlp_hidden_dim {'distribution': 'meta_gamma', 'max_alpha': 3, 'max_scale': 100, 'round': True, 'lower_bound': 25}\n",
      "prior_mlp_dropout_prob {'distribution': 'meta_beta', 'scale': 0.6, 'min': 0.1, 'max': 5.0}\n",
      "noise_std {'distribution': 'meta_trunc_norm_log_scaled', 'max_mean': 0.3, 'min_mean': 0.0001, 'round': False, 'lower_bound': 0.0}\n",
      "init_std {'distribution': 'meta_trunc_norm_log_scaled', 'max_mean': 10.0, 'min_mean': 0.01, 'round': False, 'lower_bound': 0.0}\n",
      "num_causes {'distribution': 'meta_gamma', 'max_alpha': 3, 'max_scale': 7, 'round': True, 'lower_bound': 2}\n",
      "pre_sample_weights {'distribution': 'meta_choice', 'choice_values': [True, False]}\n",
      "y_is_effect {'distribution': 'meta_choice', 'choice_values': [True, False]}\n",
      "prior_mlp_activations {'distribution': 'meta_choice_mixed', 'choice_values': [<class 'torch.nn.modules.activation.Tanh'>, <class 'torch.nn.modules.activation.Tanh'>, <class 'torch.nn.modules.activation.Tanh'>], 'choice_values_used': [\"<class 'torch.nn.modules.activation.Tanh'>\", \"<class 'torch.nn.modules.linear.Identity'>\", \"<class 'torch.nn.modules.activation.ReLU'>\"]}\n",
      "sort_features {'distribution': 'meta_choice', 'choice_values': [True, False]}\n",
      "in_clique {'distribution': 'meta_choice', 'choice_values': [True, False]}\n",
      "outputscale {'distribution': 'meta_trunc_norm_log_scaled', 'max_mean': 10.0, 'min_mean': 1e-05, 'round': False, 'lower_bound': 0}\n",
      "lengthscale {'distribution': 'meta_trunc_norm_log_scaled', 'max_mean': 10.0, 'min_mean': 1e-05, 'round': False, 'lower_bound': 0}\n",
      "noise {'distribution': 'meta_choice', 'choice_values': [1e-05, 0.0001, 0.01]}\n"
     ]
    }
   ],
   "source": [
    "for key in config:\n",
    "    #if key == \"check_is_compatible\":\n",
    "    print(key, config[key])\n",
    "for key in config[\"differentiable_hyperparameters\"]:\n",
    "    print(key, config[\"differentiable_hyperparameters\"][key])"
   ]
  },
  {
   "cell_type": "code",
   "execution_count": 22,
   "id": "b464d58b-9c9a-41fe-928d-d98626f49348",
   "metadata": {},
   "outputs": [
    {
     "name": "stdout",
     "output_type": "stream",
     "text": [
      "tensor([2.3026, 0.1054])\n",
      "[0.01 0.02 0.03 0.04 0.05 0.06 0.07 0.08 0.09 0.1  0.11 0.12 0.13 0.14\n",
      " 0.15 0.16 0.17 0.18 0.19 0.2  0.21 0.22 0.23 0.24 0.25 0.26 0.27 0.28\n",
      " 0.29 0.3  0.31 0.32 0.33 0.34 0.35 0.36 0.37 0.38 0.39 0.4  0.41 0.42\n",
      " 0.43 0.44 0.45 0.46 0.47 0.48 0.49 0.5  0.51 0.52 0.53 0.54 0.55 0.56\n",
      " 0.57 0.58 0.59 0.6  0.61 0.62 0.63 0.64 0.65 0.66 0.67 0.68 0.69 0.7\n",
      " 0.71 0.72 0.73 0.74 0.75 0.76 0.77 0.78 0.79 0.8  0.81 0.82 0.83 0.84\n",
      " 0.85 0.86 0.87 0.88 0.89 0.9  0.91 0.92 0.93 0.94 0.95 0.96 0.97 0.98\n",
      " 0.99] [4.60517019 3.91202301 3.5065579  3.21887582 2.99573227 2.81341072\n",
      " 2.65926004 2.52572864 2.40794561 2.30258509 2.20727491 2.12026354\n",
      " 2.04022083 1.96611286 1.89711998 1.83258146 1.77195684 1.71479843\n",
      " 1.66073121 1.60943791 1.56064775 1.51412773 1.46967597 1.42711636\n",
      " 1.38629436 1.34707365 1.30933332 1.27296568 1.23787436 1.2039728\n",
      " 1.17118298 1.13943428 1.10866262 1.07880966 1.04982212 1.02165125\n",
      " 0.99425227 0.96758403 0.94160854 0.91629073 0.89159812 0.86750057\n",
      " 0.84397007 0.82098055 0.7985077  0.77652879 0.75502258 0.73396918\n",
      " 0.71334989 0.69314718 0.67334455 0.65392647 0.63487827 0.61618614\n",
      " 0.597837   0.5798185  0.56211892 0.54472718 0.52763274 0.51082562\n",
      " 0.49429632 0.4780358  0.46203546 0.4462871  0.43078292 0.41551544\n",
      " 0.40047757 0.38566248 0.37106368 0.35667494 0.34249031 0.32850407\n",
      " 0.31471074 0.30110509 0.28768207 0.27443685 0.26136476 0.24846136\n",
      " 0.23572233 0.22314355 0.21072103 0.19845094 0.18632958 0.17435339\n",
      " 0.16251893 0.15082289 0.13926207 0.12783337 0.11653382 0.10536052\n",
      " 0.09431068 0.08338161 0.07257069 0.0618754  0.05129329 0.04082199\n",
      " 0.03045921 0.02020271 0.01005034]\n"
     ]
    },
    {
     "data": {
      "text/plain": [
       "[<matplotlib.lines.Line2D at 0x26643b4f4d0>]"
      ]
     },
     "execution_count": 22,
     "metadata": {},
     "output_type": "execute_result"
    },
    {
     "data": {
      "image/png": "[encoded data removed]",
      "text/plain": [
       "<Figure size 640x480 with 1 Axes>"
      ]
     },
     "metadata": {},
     "output_type": "display_data"
    }
   ],
   "source": [
    "a = torch.tensor([0.1,0.9])\n",
    "print(-torch.log(a))\n",
    "b = np.arange(0.01,1,0.01)\n",
    "print(b, -np.log(b))\n",
    "plt.plot(b, -np.log(b))"
   ]
  },
  {
   "cell_type": "code",
   "execution_count": 8,
   "id": "bcfac462-df25-4ff0-9fe7-e28db3ff9a5e",
   "metadata": {},
   "outputs": [
    {
     "name": "stdout",
     "output_type": "stream",
     "text": [
      "tensor(0.8303)\n",
      "tensor(0.8837)\n",
      "tensor(0.7426)\n",
      "tensor(0.9234)\n",
      "tensor(0.8933)\n",
      "tensor(0.8442)\n",
      "tensor(0.8750)\n",
      "tensor(0.6825)\n",
      "tensor(0.9477)\n",
      "tensor(0.8393)\n",
      "tensor(0.9323)\n",
      "tensor(0.7379)\n",
      "tensor(0.6135)\n",
      "tensor(0.9195)\n",
      "tensor(0.6422)\n",
      "tensor(0.8159)\n",
      "tensor(0.7606)\n",
      "tensor(0.6312)\n",
      "tensor(0.6523)\n",
      "tensor(0.9368)\n",
      "tensor(0.6869)\n",
      "tensor(0.9007)\n",
      "tensor(0.3574)\n"
     ]
    },
    {
     "name": "stderr",
     "output_type": "stream",
     "text": [
      "\n",
      "KeyboardInterrupt\n",
      "\n"
     ]
    }
   ],
   "source": [
    "\n",
    "for i in range(1000):\n",
    "    #print(f\"\\n\\n\\nRun #{i}\")\n",
    "    src, targets, pos = next(iter(dl))\n",
    "    #pos = 800\n",
    "    #print(src[1].shape)\n",
    "    targets = targets[pos:]\n",
    "    output = model[2](src, single_eval_pos=pos)\n",
    "    preds = torch.argmax(output, dim=-1).float()\n",
    "    print(torch.mean((preds==targets)[targets!=-100].float()))"
   ]
  },
  {
   "cell_type": "code",
   "execution_count": null,
   "id": "47a7f9fa-fcc9-4084-8dbb-03337694264e",
   "metadata": {},
   "outputs": [],
   "source": []
  }
 ],
 "metadata": {
  "kernelspec": {
   "display_name": "Python 3 (ipykernel)",
   "language": "python",
   "name": "python3"
  },
  "language_info": {
   "codemirror_mode": {
    "name": "ipython",
    "version": 3
   },
   "file_extension": ".py",
   "mimetype": "text/x-python",
   "name": "python",
   "nbconvert_exporter": "python",
   "pygments_lexer": "ipython3",
   "version": "3.11.0"
  }
 },
 "nbformat": 4,
 "nbformat_minor": 5
}
